{
 "cells": [
  {
   "cell_type": "markdown",
   "metadata": {},
   "source": [
    "## Часть примеров, которые разбирали 29 марта"
   ]
  },
  {
   "cell_type": "markdown",
   "metadata": {},
   "source": [
    "### Про выполнение команд\n",
    "* Shift + Enter - выполнить код в ячейке и перейти на следующую\n",
    "* Ctrl + Enter - выполнить и остаться\n",
    "\n",
    "### Немного полезностей и про markdown:\n",
    "* перевести ячейку из кода в комментарии можно с помощью 'Esc + m' или просто 'm', если вы не еще не успели сделать ее активной\n",
    "* добавить новую ячейку можно аналогичным образом через 'b'\n",
    "* Jupyter понимает эти команды и в русской раскладке\n",
    "* все это можно сделать и через верхнюю панель, но рано или поздно она начнет вас раздражать\n",
    "* можно писать формулы, список горячих клавиш Ctrl+Shift+P\n",
    "* https://www.dataquest.io/blog/jupyter-notebook-tips-tricks-shortcuts/\n",
    "* для выделения можно использовать решетки или просто **выделить пожирнее**"
   ]
  },
  {
   "cell_type": "code",
   "execution_count": 1,
   "metadata": {},
   "outputs": [],
   "source": [
    "# длинные переменные и названия функций можно записывать разными способами\n",
    "\n",
    "snake_case_integer = 5"
   ]
  },
  {
   "cell_type": "code",
   "execution_count": 2,
   "metadata": {},
   "outputs": [
    {
     "data": {
      "text/plain": [
       "5"
      ]
     },
     "execution_count": 2,
     "metadata": {},
     "output_type": "execute_result"
    }
   ],
   "source": [
    "snake_case_integer"
   ]
  },
  {
   "cell_type": "markdown",
   "metadata": {},
   "source": []
  },
  {
   "cell_type": "code",
   "execution_count": 3,
   "metadata": {},
   "outputs": [
    {
     "data": {
      "text/plain": [
       "int"
      ]
     },
     "execution_count": 3,
     "metadata": {},
     "output_type": "execute_result"
    }
   ],
   "source": [
    "# пользуйтесь табуляцией для автозаполнения длинных названий\n",
    "\n",
    "type( snake_case_integer )"
   ]
  },
  {
   "cell_type": "code",
   "execution_count": 4,
   "metadata": {},
   "outputs": [
    {
     "data": {
      "text/plain": [
       "5"
      ]
     },
     "execution_count": 4,
     "metadata": {},
     "output_type": "execute_result"
    }
   ],
   "source": [
    "snake_case_integer"
   ]
  },
  {
   "cell_type": "code",
   "execution_count": 5,
   "metadata": {},
   "outputs": [],
   "source": [
    "camelCaseString = \"строка из слов\""
   ]
  },
  {
   "cell_type": "code",
   "execution_count": 6,
   "metadata": {},
   "outputs": [],
   "source": [
    "sqlQuery = \"select * from ... where date = '2018-09-09'\""
   ]
  },
  {
   "cell_type": "code",
   "execution_count": 7,
   "metadata": {},
   "outputs": [
    {
     "data": {
      "text/plain": [
       "str"
      ]
     },
     "execution_count": 7,
     "metadata": {},
     "output_type": "execute_result"
    }
   ],
   "source": [
    "type( camelCaseString )"
   ]
  },
  {
   "cell_type": "code",
   "execution_count": 8,
   "metadata": {},
   "outputs": [
    {
     "data": {
      "text/plain": [
       "'с'"
      ]
     },
     "execution_count": 8,
     "metadata": {},
     "output_type": "execute_result"
    }
   ],
   "source": [
    "# первый элемент всегда имеет номер 0\n",
    "# например, первая буква слова\n",
    "\n",
    "camelCaseString[0]"
   ]
  },
  {
   "cell_type": "code",
   "execution_count": 9,
   "metadata": {},
   "outputs": [],
   "source": [
    "# разделитель - точка\n",
    "\n",
    "floatNumber = 3.14"
   ]
  },
  {
   "cell_type": "markdown",
   "metadata": {},
   "source": [
    "## Работа с листами"
   ]
  },
  {
   "cell_type": "code",
   "execution_count": 10,
   "metadata": {},
   "outputs": [],
   "source": [
    "justNumbers = [ 4, 1, 13, 0, 6 ]"
   ]
  },
  {
   "cell_type": "code",
   "execution_count": 11,
   "metadata": {},
   "outputs": [
    {
     "data": {
      "text/plain": [
       "5"
      ]
     },
     "execution_count": 11,
     "metadata": {},
     "output_type": "execute_result"
    }
   ],
   "source": [
    "len( justNumbers ) # количество элементов в списке"
   ]
  },
  {
   "cell_type": "code",
   "execution_count": 12,
   "metadata": {},
   "outputs": [
    {
     "data": {
      "text/plain": [
       "24"
      ]
     },
     "execution_count": 12,
     "metadata": {},
     "output_type": "execute_result"
    }
   ],
   "source": [
    "sum( justNumbers ) # сумма элементов"
   ]
  },
  {
   "cell_type": "code",
   "execution_count": 13,
   "metadata": {},
   "outputs": [
    {
     "data": {
      "text/plain": [
       "[0, 1, 4, 6, 13]"
      ]
     },
     "execution_count": 13,
     "metadata": {},
     "output_type": "execute_result"
    }
   ],
   "source": [
    "sorted( justNumbers ) # сортировка"
   ]
  },
  {
   "cell_type": "code",
   "execution_count": 14,
   "metadata": {},
   "outputs": [
    {
     "data": {
      "text/plain": [
       "[13, 6, 4, 1, 0]"
      ]
     },
     "execution_count": 14,
     "metadata": {},
     "output_type": "execute_result"
    }
   ],
   "source": [
    "sorted( justNumbers, reverse = True ) # сортировка в обратном порядке"
   ]
  },
  {
   "cell_type": "code",
   "execution_count": 15,
   "metadata": {},
   "outputs": [
    {
     "data": {
      "text/plain": [
       "[4, 1, 13, 0, 6, 55]"
      ]
     },
     "execution_count": 15,
     "metadata": {},
     "output_type": "execute_result"
    }
   ],
   "source": [
    "justNumbers.append( 55 ) # добавление элемента\n",
    "justNumbers"
   ]
  },
  {
   "cell_type": "code",
   "execution_count": 16,
   "metadata": {},
   "outputs": [
    {
     "data": {
      "text/plain": [
       "[1, 2, 3, 4, 5, 6]"
      ]
     },
     "execution_count": 16,
     "metadata": {},
     "output_type": "execute_result"
    }
   ],
   "source": [
    "# склеивание листов\n",
    "\n",
    "[1, 2, 3] + [4, 5, 6]"
   ]
  },
  {
   "cell_type": "markdown",
   "metadata": {},
   "source": [
    "### Изменение листов\n",
    "\n",
    "В примере ниже переменная justNumbers и copyNumbers на самом деле указывают на один и тот же объект. В результате, при добавлении в copyNumbers очередного элемента этот элемент добавляется и в исходном листе justNumbers"
   ]
  },
  {
   "cell_type": "code",
   "execution_count": 17,
   "metadata": {},
   "outputs": [],
   "source": [
    "a = [1, 2, 3]"
   ]
  },
  {
   "cell_type": "code",
   "execution_count": 18,
   "metadata": {},
   "outputs": [],
   "source": [
    "b = a"
   ]
  },
  {
   "cell_type": "code",
   "execution_count": 19,
   "metadata": {},
   "outputs": [
    {
     "data": {
      "text/plain": [
       "[1, 2, 3, 8]"
      ]
     },
     "execution_count": 19,
     "metadata": {},
     "output_type": "execute_result"
    }
   ],
   "source": [
    "b.append( 8 )\n",
    "b"
   ]
  },
  {
   "cell_type": "code",
   "execution_count": 20,
   "metadata": {},
   "outputs": [
    {
     "data": {
      "text/plain": [
       "[1, 2, 3, 8]"
      ]
     },
     "execution_count": 20,
     "metadata": {},
     "output_type": "execute_result"
    }
   ],
   "source": [
    "a"
   ]
  },
  {
   "cell_type": "markdown",
   "metadata": {
    "collapsed": true
   },
   "source": [
    "### Используем модуль copy"
   ]
  },
  {
   "cell_type": "code",
   "execution_count": 21,
   "metadata": {},
   "outputs": [],
   "source": [
    "copyNumbers = justNumbers\n",
    "copyNumbers.append( 66 )"
   ]
  },
  {
   "cell_type": "code",
   "execution_count": 22,
   "metadata": {},
   "outputs": [
    {
     "data": {
      "text/plain": [
       "[4, 1, 13, 0, 6, 55, 66]"
      ]
     },
     "execution_count": 22,
     "metadata": {},
     "output_type": "execute_result"
    }
   ],
   "source": [
    "justNumbers"
   ]
  },
  {
   "cell_type": "code",
   "execution_count": 23,
   "metadata": {},
   "outputs": [
    {
     "data": {
      "text/plain": [
       "836031205960"
      ]
     },
     "execution_count": 23,
     "metadata": {},
     "output_type": "execute_result"
    }
   ],
   "source": [
    "id( justNumbers )"
   ]
  },
  {
   "cell_type": "code",
   "execution_count": 24,
   "metadata": {},
   "outputs": [
    {
     "data": {
      "text/plain": [
       "836031205960"
      ]
     },
     "execution_count": 24,
     "metadata": {},
     "output_type": "execute_result"
    }
   ],
   "source": [
    "id( copyNumbers )"
   ]
  },
  {
   "cell_type": "code",
   "execution_count": 25,
   "metadata": {},
   "outputs": [],
   "source": [
    "justNumbers = [ 4, 1, 13, 0, 6, 55 ]"
   ]
  },
  {
   "cell_type": "code",
   "execution_count": 26,
   "metadata": {},
   "outputs": [],
   "source": [
    "import copy"
   ]
  },
  {
   "cell_type": "code",
   "execution_count": 27,
   "metadata": {},
   "outputs": [],
   "source": [
    "copyNumbers = copy.deepcopy( justNumbers )\n",
    "copyNumbers.append( 66 )"
   ]
  },
  {
   "cell_type": "code",
   "execution_count": 28,
   "metadata": {},
   "outputs": [],
   "source": [
    "a = 1\n",
    "b = a"
   ]
  },
  {
   "cell_type": "code",
   "execution_count": 29,
   "metadata": {},
   "outputs": [
    {
     "data": {
      "text/plain": [
       "(140717733221184, 140717733221184)"
      ]
     },
     "execution_count": 29,
     "metadata": {},
     "output_type": "execute_result"
    }
   ],
   "source": [
    "id(a), id(b)"
   ]
  },
  {
   "cell_type": "code",
   "execution_count": 30,
   "metadata": {},
   "outputs": [
    {
     "data": {
      "text/plain": [
       "1"
      ]
     },
     "execution_count": 30,
     "metadata": {},
     "output_type": "execute_result"
    }
   ],
   "source": [
    "b = 3\n",
    "a"
   ]
  },
  {
   "cell_type": "code",
   "execution_count": 31,
   "metadata": {},
   "outputs": [
    {
     "data": {
      "text/plain": [
       "836050892680"
      ]
     },
     "execution_count": 31,
     "metadata": {},
     "output_type": "execute_result"
    }
   ],
   "source": [
    "id( justNumbers )"
   ]
  },
  {
   "cell_type": "code",
   "execution_count": 32,
   "metadata": {},
   "outputs": [
    {
     "data": {
      "text/plain": [
       "836048095944"
      ]
     },
     "execution_count": 32,
     "metadata": {},
     "output_type": "execute_result"
    }
   ],
   "source": [
    "id( copyNumbers )"
   ]
  },
  {
   "cell_type": "code",
   "execution_count": 33,
   "metadata": {},
   "outputs": [
    {
     "data": {
      "text/plain": [
       "[4, 1, 13, 0, 6, 55]"
      ]
     },
     "execution_count": 33,
     "metadata": {},
     "output_type": "execute_result"
    }
   ],
   "source": [
    "justNumbers"
   ]
  },
  {
   "cell_type": "code",
   "execution_count": 34,
   "metadata": {},
   "outputs": [
    {
     "data": {
      "text/plain": [
       "[4, 1, 13, 0, 6, 55, 66]"
      ]
     },
     "execution_count": 34,
     "metadata": {},
     "output_type": "execute_result"
    }
   ],
   "source": [
    "copyNumbers"
   ]
  },
  {
   "cell_type": "markdown",
   "metadata": {},
   "source": [
    "**Вывод части листа**"
   ]
  },
  {
   "cell_type": "code",
   "execution_count": 35,
   "metadata": {},
   "outputs": [],
   "source": [
    "sequence = [ 'Первый', 'Второй', 'Третий', 'Четвертый', 'Пятый' ]"
   ]
  },
  {
   "cell_type": "code",
   "execution_count": 36,
   "metadata": {},
   "outputs": [
    {
     "data": {
      "text/plain": [
       "['Второй', 'Третий', 'Четвертый', 'Пятый']"
      ]
     },
     "execution_count": 36,
     "metadata": {},
     "output_type": "execute_result"
    }
   ],
   "source": [
    "sequence[1:]"
   ]
  },
  {
   "cell_type": "code",
   "execution_count": 37,
   "metadata": {},
   "outputs": [
    {
     "data": {
      "text/plain": [
       "'Второй'"
      ]
     },
     "execution_count": 37,
     "metadata": {},
     "output_type": "execute_result"
    }
   ],
   "source": [
    "sequence[1:2][0]"
   ]
  },
  {
   "cell_type": "code",
   "execution_count": 38,
   "metadata": {},
   "outputs": [
    {
     "data": {
      "text/plain": [
       "list"
      ]
     },
     "execution_count": 38,
     "metadata": {},
     "output_type": "execute_result"
    }
   ],
   "source": [
    "type( sequence[-2:] )"
   ]
  },
  {
   "cell_type": "code",
   "execution_count": null,
   "metadata": {},
   "outputs": [],
   "source": []
  },
  {
   "cell_type": "code",
   "execution_count": 39,
   "metadata": {},
   "outputs": [
    {
     "name": "stdout",
     "output_type": "stream",
     "text": [
      "['Третий']\n"
     ]
    }
   ],
   "source": [
    "print( sequence[2:3] )"
   ]
  },
  {
   "cell_type": "code",
   "execution_count": 40,
   "metadata": {},
   "outputs": [
    {
     "name": "stdout",
     "output_type": "stream",
     "text": [
      "Третий\n"
     ]
    }
   ],
   "source": [
    "print( sequence[2] )"
   ]
  },
  {
   "cell_type": "code",
   "execution_count": 41,
   "metadata": {},
   "outputs": [
    {
     "name": "stdout",
     "output_type": "stream",
     "text": [
      "<class 'list'>\n"
     ]
    }
   ],
   "source": [
    "print( type(sequence[2:3]  ) )"
   ]
  },
  {
   "cell_type": "code",
   "execution_count": 42,
   "metadata": {},
   "outputs": [
    {
     "name": "stdout",
     "output_type": "stream",
     "text": [
      "<class 'str'>\n"
     ]
    }
   ],
   "source": [
    "print( type(sequence[2]  ) )"
   ]
  },
  {
   "cell_type": "code",
   "execution_count": 43,
   "metadata": {},
   "outputs": [
    {
     "name": "stdout",
     "output_type": "stream",
     "text": [
      "['Первый', 'Второй', 'Третий']\n"
     ]
    }
   ],
   "source": [
    "print( sequence[:3] )"
   ]
  },
  {
   "cell_type": "code",
   "execution_count": 44,
   "metadata": {},
   "outputs": [
    {
     "name": "stdout",
     "output_type": "stream",
     "text": [
      "Пятый\n"
     ]
    }
   ],
   "source": [
    "print( sequence[-1] )"
   ]
  },
  {
   "cell_type": "code",
   "execution_count": 45,
   "metadata": {},
   "outputs": [
    {
     "name": "stdout",
     "output_type": "stream",
     "text": [
      "['Четвертый', 'Пятый']\n"
     ]
    }
   ],
   "source": [
    "print( sequence[-2:] )"
   ]
  },
  {
   "cell_type": "markdown",
   "metadata": {},
   "source": [
    "## Перевод из листа в строку и обратно"
   ]
  },
  {
   "cell_type": "code",
   "execution_count": 46,
   "metadata": {},
   "outputs": [
    {
     "data": {
      "text/plain": [
       "['Первый', 'Второй', 'Третий', 'Четвертый', 'Пятый']"
      ]
     },
     "execution_count": 46,
     "metadata": {},
     "output_type": "execute_result"
    }
   ],
   "source": [
    "sequence"
   ]
  },
  {
   "cell_type": "code",
   "execution_count": 47,
   "metadata": {},
   "outputs": [
    {
     "data": {
      "text/plain": [
       "'Первый;Второй;Третий;Четвертый;Пятый'"
      ]
     },
     "execution_count": 47,
     "metadata": {},
     "output_type": "execute_result"
    }
   ],
   "source": [
    "';'.join( sequence )"
   ]
  },
  {
   "cell_type": "code",
   "execution_count": 48,
   "metadata": {},
   "outputs": [
    {
     "data": {
      "text/plain": [
       "'Первый,Второй,Третий,Четвертый,Пятый'"
      ]
     },
     "execution_count": 48,
     "metadata": {},
     "output_type": "execute_result"
    }
   ],
   "source": [
    "','.join( sequence )"
   ]
  },
  {
   "cell_type": "code",
   "execution_count": 49,
   "metadata": {},
   "outputs": [
    {
     "data": {
      "text/plain": [
       "['one', 'two', 'three']"
      ]
     },
     "execution_count": 49,
     "metadata": {},
     "output_type": "execute_result"
    }
   ],
   "source": [
    "'one;two;three'.split(';')"
   ]
  },
  {
   "cell_type": "markdown",
   "metadata": {},
   "source": [
    "## List comprehension"
   ]
  },
  {
   "cell_type": "code",
   "execution_count": 50,
   "metadata": {},
   "outputs": [
    {
     "name": "stdout",
     "output_type": "stream",
     "text": [
      "0\n",
      "1\n",
      "2\n",
      "3\n",
      "4\n",
      "5\n",
      "6\n",
      "7\n",
      "8\n",
      "9\n"
     ]
    }
   ],
   "source": [
    "for i in range(10):\n",
    "    print( i )"
   ]
  },
  {
   "cell_type": "code",
   "execution_count": 51,
   "metadata": {},
   "outputs": [
    {
     "name": "stdout",
     "output_type": "stream",
     "text": [
      "5\n",
      "8\n"
     ]
    }
   ],
   "source": [
    "for i in range( 5, 10, 3 ):\n",
    "    print(i)"
   ]
  },
  {
   "cell_type": "code",
   "execution_count": 52,
   "metadata": {},
   "outputs": [
    {
     "data": {
      "text/plain": [
       "[0, 1, 2, 3, 4, 5, 6, 7, 8, 9]"
      ]
     },
     "execution_count": 52,
     "metadata": {},
     "output_type": "execute_result"
    }
   ],
   "source": [
    "list( range(10) )"
   ]
  },
  {
   "cell_type": "code",
   "execution_count": 53,
   "metadata": {},
   "outputs": [],
   "source": [
    "# Дана последовательность чисел. Мы хотим оставить только те, что делятся на 5\n",
    "sequence = range( 0, 40, 3 )"
   ]
  },
  {
   "cell_type": "code",
   "execution_count": 54,
   "metadata": {},
   "outputs": [
    {
     "name": "stdout",
     "output_type": "stream",
     "text": [
      "0\n",
      "15\n",
      "30\n"
     ]
    }
   ],
   "source": [
    "# решение в лоб\n",
    "for num in sequence:\n",
    "    if num % 5 == 0:\n",
    "        print( num )"
   ]
  },
  {
   "cell_type": "code",
   "execution_count": 55,
   "metadata": {},
   "outputs": [
    {
     "name": "stdout",
     "output_type": "stream",
     "text": [
      "[0, 15, 30]\n"
     ]
    }
   ],
   "source": [
    "# если хотим получить отфильтрованный лист, то будет даже так\n",
    "filteredSequence = []\n",
    "\n",
    "for num in sequence:\n",
    "    if num % 5 == 0:\n",
    "        filteredSequence.append( num )\n",
    "\n",
    "print( filteredSequence )"
   ]
  },
  {
   "cell_type": "code",
   "execution_count": 56,
   "metadata": {},
   "outputs": [
    {
     "name": "stdout",
     "output_type": "stream",
     "text": [
      "[0, 15, 30]\n"
     ]
    }
   ],
   "source": [
    "# с list comprehension получается покороче\n",
    "\n",
    "print( [ x for x in sequence if x % 5 == 0 ] )"
   ]
  },
  {
   "cell_type": "code",
   "execution_count": 57,
   "metadata": {},
   "outputs": [],
   "source": [
    "queries = ['смотреть сериалы онлайн', 'новости', 'какая рыба вобла', 'пхенчхан золото онлайн', 'сколько дней до 8 марта']"
   ]
  },
  {
   "cell_type": "code",
   "execution_count": 58,
   "metadata": {},
   "outputs": [
    {
     "data": {
      "text/plain": [
       "[3, 1, 3, 3, 5]"
      ]
     },
     "execution_count": 58,
     "metadata": {},
     "output_type": "execute_result"
    }
   ],
   "source": [
    "length_of_words = [ len(x.split(' ')) for x in queries ]\n",
    "length_of_words"
   ]
  },
  {
   "cell_type": "markdown",
   "metadata": {},
   "source": [
    "### Tuple и кортеж"
   ]
  },
  {
   "cell_type": "code",
   "execution_count": 59,
   "metadata": {},
   "outputs": [
    {
     "data": {
      "text/plain": [
       "{1, 3, 5}"
      ]
     },
     "execution_count": 59,
     "metadata": {},
     "output_type": "execute_result"
    }
   ],
   "source": [
    "fixed_list = set(length_of_words)\n",
    "fixed_list"
   ]
  },
  {
   "cell_type": "markdown",
   "metadata": {},
   "source": [
    "Количество уникальных элементов:"
   ]
  },
  {
   "cell_type": "code",
   "execution_count": 60,
   "metadata": {},
   "outputs": [
    {
     "data": {
      "text/plain": [
       "3"
      ]
     },
     "execution_count": 60,
     "metadata": {},
     "output_type": "execute_result"
    }
   ],
   "source": [
    "len(fixed_list)"
   ]
  },
  {
   "cell_type": "code",
   "execution_count": 61,
   "metadata": {},
   "outputs": [
    {
     "ename": "TypeError",
     "evalue": "'set' object does not support item assignment",
     "output_type": "error",
     "traceback": [
      "\u001b[1;31m---------------------------------------------------------------------------\u001b[0m",
      "\u001b[1;31mTypeError\u001b[0m                                 Traceback (most recent call last)",
      "\u001b[1;32m<ipython-input-61-41a5d9fa0da7>\u001b[0m in \u001b[0;36m<module>\u001b[1;34m\u001b[0m\n\u001b[1;32m----> 1\u001b[1;33m \u001b[0mfixed_list\u001b[0m\u001b[1;33m[\u001b[0m\u001b[1;36m0\u001b[0m\u001b[1;33m]\u001b[0m \u001b[1;33m=\u001b[0m \u001b[1;36m1\u001b[0m\u001b[1;33m\u001b[0m\u001b[1;33m\u001b[0m\u001b[0m\n\u001b[0m",
      "\u001b[1;31mTypeError\u001b[0m: 'set' object does not support item assignment"
     ]
    }
   ],
   "source": [
    "fixed_list[0] = 1"
   ]
  },
  {
   "cell_type": "markdown",
   "metadata": {},
   "source": [
    "Распределение элементов:"
   ]
  },
  {
   "cell_type": "code",
   "execution_count": 62,
   "metadata": {},
   "outputs": [],
   "source": [
    "from collections import Counter"
   ]
  },
  {
   "cell_type": "code",
   "execution_count": 63,
   "metadata": {},
   "outputs": [
    {
     "data": {
      "text/plain": [
       "Counter({3: 3, 1: 1, 5: 1})"
      ]
     },
     "execution_count": 63,
     "metadata": {},
     "output_type": "execute_result"
    }
   ],
   "source": [
    "Counter(length_of_words)"
   ]
  },
  {
   "cell_type": "markdown",
   "metadata": {},
   "source": [
    "Количество уникальных элементов другим способом:"
   ]
  },
  {
   "cell_type": "code",
   "execution_count": 64,
   "metadata": {},
   "outputs": [
    {
     "data": {
      "text/plain": [
       "3"
      ]
     },
     "execution_count": 64,
     "metadata": {},
     "output_type": "execute_result"
    }
   ],
   "source": [
    "len(Counter(length_of_words))"
   ]
  },
  {
   "cell_type": "markdown",
   "metadata": {},
   "source": [
    "### Упражнение"
   ]
  },
  {
   "cell_type": "markdown",
   "metadata": {},
   "source": [
    "Дана последовательность поисковых запросов из файла:"
   ]
  },
  {
   "cell_type": "code",
   "execution_count": 65,
   "metadata": {},
   "outputs": [],
   "source": [
    "queries = 'смотреть сериалы онлайн,новости,какая рыба вобла,пхенчхан золото онлайн,сколько дней до 8 марта'"
   ]
  },
  {
   "cell_type": "markdown",
   "metadata": {},
   "source": [
    "Необходимо исключить из этой строки запросы, которые НЕ содержат слов из листа words:"
   ]
  },
  {
   "cell_type": "code",
   "execution_count": 66,
   "metadata": {},
   "outputs": [],
   "source": [
    "words = ['онлайн', 'золото']"
   ]
  },
  {
   "cell_type": "markdown",
   "metadata": {},
   "source": [
    "Если понадобится выход из цикла:"
   ]
  },
  {
   "cell_type": "code",
   "execution_count": 67,
   "metadata": {},
   "outputs": [
    {
     "name": "stdout",
     "output_type": "stream",
     "text": [
      "0\n",
      "1\n",
      "2\n",
      "3\n",
      "4\n",
      "5\n",
      "6\n"
     ]
    }
   ],
   "source": [
    "for i in range(1000):\n",
    "    print(i)\n",
    "    \n",
    "    if i > 5:\n",
    "        break"
   ]
  },
  {
   "cell_type": "markdown",
   "metadata": {},
   "source": [
    "# Выполнение упражнения\n",
    "### by guryanoffilya*"
   ]
  },
  {
   "cell_type": "code",
   "execution_count": 129,
   "metadata": {},
   "outputs": [],
   "source": [
    "zaproses = queries.split(',')"
   ]
  },
  {
   "cell_type": "code",
   "execution_count": 130,
   "metadata": {},
   "outputs": [
    {
     "data": {
      "text/plain": [
       "['смотреть сериалы онлайн',\n",
       " 'новости',\n",
       " 'какая рыба вобла',\n",
       " 'пхенчхан золото онлайн',\n",
       " 'сколько дней до 8 марта']"
      ]
     },
     "execution_count": 130,
     "metadata": {},
     "output_type": "execute_result"
    }
   ],
   "source": [
    "zaproses"
   ]
  },
  {
   "cell_type": "code",
   "execution_count": 131,
   "metadata": {},
   "outputs": [],
   "source": [
    "result = []"
   ]
  },
  {
   "cell_type": "code",
   "execution_count": 132,
   "metadata": {},
   "outputs": [],
   "source": [
    "for zapros in zaproses:\n",
    "    for word in zapros.split(' '):\n",
    "        end = False\n",
    "        for word2 in words:\n",
    "            if word2 == word:\n",
    "                result.append(zapros)\n"
   ]
  },
  {
   "cell_type": "code",
   "execution_count": 133,
   "metadata": {},
   "outputs": [
    {
     "data": {
      "text/plain": [
       "['смотреть сериалы онлайн', 'пхенчхан золото онлайн', 'пхенчхан золото онлайн']"
      ]
     },
     "execution_count": 133,
     "metadata": {},
     "output_type": "execute_result"
    }
   ],
   "source": [
    "result"
   ]
  },
  {
   "cell_type": "code",
   "execution_count": 134,
   "metadata": {},
   "outputs": [],
   "source": [
    "result = (result)"
   ]
  },
  {
   "cell_type": "code",
   "execution_count": 135,
   "metadata": {},
   "outputs": [
    {
     "name": "stdout",
     "output_type": "stream",
     "text": [
      "{'пхенчхан золото онлайн', 'смотреть сериалы онлайн'}\n"
     ]
    }
   ],
   "source": [
    "print(result)"
   ]
  },
  {
   "cell_type": "markdown",
   "metadata": {},
   "source": [
    "## Функции"
   ]
  },
  {
   "cell_type": "code",
   "execution_count": 140,
   "metadata": {},
   "outputs": [],
   "source": [
    "def square(num):\n",
    "    \"\"\"Возвращает квадрат числа num\"\"\"\n",
    "    \n",
    "    return num**2"
   ]
  },
  {
   "cell_type": "code",
   "execution_count": 141,
   "metadata": {},
   "outputs": [
    {
     "data": {
      "text/plain": [
       "625"
      ]
     },
     "execution_count": 141,
     "metadata": {},
     "output_type": "execute_result"
    }
   ],
   "source": [
    "square(25)"
   ]
  },
  {
   "cell_type": "code",
   "execution_count": 142,
   "metadata": {},
   "outputs": [],
   "source": [
    "?square"
   ]
  },
  {
   "cell_type": "code",
   "execution_count": 143,
   "metadata": {},
   "outputs": [],
   "source": [
    "def args_example(*args):\n",
    "    \"\"\"Пример передачи произвольного числа неименованных аргументов\"\"\"\n",
    "    \n",
    "    print(args)\n",
    "    \n",
    "    return type(args)"
   ]
  },
  {
   "cell_type": "code",
   "execution_count": 144,
   "metadata": {},
   "outputs": [
    {
     "name": "stdout",
     "output_type": "stream",
     "text": [
      "(1, 'hello', ['python', 'is', 'cool'])\n"
     ]
    },
    {
     "data": {
      "text/plain": [
       "tuple"
      ]
     },
     "execution_count": 144,
     "metadata": {},
     "output_type": "execute_result"
    }
   ],
   "source": [
    "args_example(1, 'hello', ['python', 'is', 'cool'])"
   ]
  },
  {
   "cell_type": "code",
   "execution_count": 145,
   "metadata": {},
   "outputs": [],
   "source": [
    "def kwargs_example(**kwargs):\n",
    "    \"\"\"Пример передачи произвольного числа неименованных аргументов\"\"\"\n",
    "    \n",
    "    print(kwargs)\n",
    "    \n",
    "    return type(kwargs)"
   ]
  },
  {
   "cell_type": "code",
   "execution_count": 146,
   "metadata": {},
   "outputs": [
    {
     "name": "stdout",
     "output_type": "stream",
     "text": [
      "{'date_start': '2018-03-01', 'date_end': '2018-12-31'}\n"
     ]
    },
    {
     "data": {
      "text/plain": [
       "dict"
      ]
     },
     "execution_count": 146,
     "metadata": {},
     "output_type": "execute_result"
    }
   ],
   "source": [
    "kwargs_example(date_start = '2018-03-01', date_end = '2018-12-31')"
   ]
  },
  {
   "cell_type": "markdown",
   "metadata": {},
   "source": [
    "# Дополнительные примеры\n",
    "### by guryanoffilya"
   ]
  },
  {
   "cell_type": "code",
   "execution_count": 152,
   "metadata": {},
   "outputs": [],
   "source": [
    "def example (**kwargs):\n",
    "    \"\"\"Что если послать значения разного типа\"\"\"\n",
    "    print(kwargs)\n",
    "    \n",
    "    return type(kwargs)"
   ]
  },
  {
   "cell_type": "code",
   "execution_count": 153,
   "metadata": {},
   "outputs": [
    {
     "name": "stdout",
     "output_type": "stream",
     "text": [
      "{'a': 'help', 'b': 5}\n"
     ]
    },
    {
     "data": {
      "text/plain": [
       "dict"
      ]
     },
     "execution_count": 153,
     "metadata": {},
     "output_type": "execute_result"
    }
   ],
   "source": [
    "example(a = 'help', b = 5)"
   ]
  },
  {
   "cell_type": "code",
   "execution_count": 154,
   "metadata": {},
   "outputs": [
    {
     "ename": "TypeError",
     "evalue": "example() takes 0 positional arguments but 2 were given",
     "output_type": "error",
     "traceback": [
      "\u001b[1;31m---------------------------------------------------------------------------\u001b[0m",
      "\u001b[1;31mTypeError\u001b[0m                                 Traceback (most recent call last)",
      "\u001b[1;32m<ipython-input-154-7e3566504785>\u001b[0m in \u001b[0;36m<module>\u001b[1;34m\u001b[0m\n\u001b[1;32m----> 1\u001b[1;33m \u001b[0mexample\u001b[0m\u001b[1;33m(\u001b[0m\u001b[1;34m'help'\u001b[0m\u001b[1;33m,\u001b[0m \u001b[1;36m5\u001b[0m\u001b[1;33m)\u001b[0m\u001b[1;33m\u001b[0m\u001b[1;33m\u001b[0m\u001b[0m\n\u001b[0m",
      "\u001b[1;31mTypeError\u001b[0m: example() takes 0 positional arguments but 2 were given"
     ]
    }
   ],
   "source": [
    "example('help', 5)"
   ]
  },
  {
   "cell_type": "code",
   "execution_count": 155,
   "metadata": {},
   "outputs": [],
   "source": [
    "def example2 (*args):\n",
    "    \"\"\"А что если сюда отправить словарь\"\"\"\n",
    "    print(args)\n",
    "    \n",
    "    return type(args)"
   ]
  },
  {
   "cell_type": "code",
   "execution_count": 156,
   "metadata": {},
   "outputs": [
    {
     "ename": "TypeError",
     "evalue": "example2() got an unexpected keyword argument 'a'",
     "output_type": "error",
     "traceback": [
      "\u001b[1;31m---------------------------------------------------------------------------\u001b[0m",
      "\u001b[1;31mTypeError\u001b[0m                                 Traceback (most recent call last)",
      "\u001b[1;32m<ipython-input-156-a32730701831>\u001b[0m in \u001b[0;36m<module>\u001b[1;34m\u001b[0m\n\u001b[1;32m----> 1\u001b[1;33m \u001b[0mexample2\u001b[0m\u001b[1;33m(\u001b[0m\u001b[0ma\u001b[0m \u001b[1;33m=\u001b[0m \u001b[1;34m'b'\u001b[0m\u001b[1;33m,\u001b[0m \u001b[0mb\u001b[0m \u001b[1;33m=\u001b[0m \u001b[1;34m'c'\u001b[0m\u001b[1;33m)\u001b[0m\u001b[1;33m\u001b[0m\u001b[1;33m\u001b[0m\u001b[0m\n\u001b[0m",
      "\u001b[1;31mTypeError\u001b[0m: example2() got an unexpected keyword argument 'a'"
     ]
    }
   ],
   "source": [
    "example2(a = 'b', b = 'c')"
   ]
  },
  {
   "cell_type": "markdown",
   "metadata": {},
   "source": [
    "### Вывод: kwargs - dict, args - произвольное, но не словарь"
   ]
  },
  {
   "cell_type": "code",
   "execution_count": null,
   "metadata": {},
   "outputs": [],
   "source": []
  },
  {
   "cell_type": "markdown",
   "metadata": {},
   "source": [
    "## Map и lambda-функции"
   ]
  },
  {
   "cell_type": "code",
   "execution_count": 157,
   "metadata": {},
   "outputs": [],
   "source": [
    "nums = [ 1, 2, 3, 4, 5 ]"
   ]
  },
  {
   "cell_type": "code",
   "execution_count": 158,
   "metadata": {},
   "outputs": [
    {
     "data": {
      "text/plain": [
       "[1, 4, 9, 16, 25]"
      ]
     },
     "execution_count": 158,
     "metadata": {},
     "output_type": "execute_result"
    }
   ],
   "source": [
    "list( map( lambda x: x**2, nums ) )"
   ]
  },
  {
   "cell_type": "code",
   "execution_count": 159,
   "metadata": {},
   "outputs": [],
   "source": [
    "def square( x ):\n",
    "    return x**2"
   ]
  },
  {
   "cell_type": "code",
   "execution_count": 160,
   "metadata": {},
   "outputs": [
    {
     "data": {
      "text/plain": [
       "[1, 4, 9, 16, 25]"
      ]
     },
     "execution_count": 160,
     "metadata": {},
     "output_type": "execute_result"
    }
   ],
   "source": [
    "list( map( square, nums ) )"
   ]
  },
  {
   "cell_type": "markdown",
   "metadata": {},
   "source": [
    "Применение нескольких функций одновременно"
   ]
  },
  {
   "cell_type": "code",
   "execution_count": 161,
   "metadata": {},
   "outputs": [],
   "source": [
    "def cube( x ):\n",
    "    return x**3"
   ]
  },
  {
   "cell_type": "code",
   "execution_count": 164,
   "metadata": {},
   "outputs": [
    {
     "name": "stdout",
     "output_type": "stream",
     "text": [
      "[1, 1]\n",
      "[4, 8]\n",
      "[9, 27]\n",
      "[16, 64]\n",
      "[25, 125]\n"
     ]
    }
   ],
   "source": [
    "for i in range( len( nums ) ):\n",
    "    print( list( map( lambda x: x( nums[ i ] ), [ square, cube ] ) ) )"
   ]
  },
  {
   "cell_type": "markdown",
   "metadata": {},
   "source": [
    "## reduce"
   ]
  },
  {
   "cell_type": "code",
   "execution_count": 165,
   "metadata": {},
   "outputs": [],
   "source": [
    "from functools import reduce"
   ]
  },
  {
   "cell_type": "code",
   "execution_count": 168,
   "metadata": {},
   "outputs": [
    {
     "data": {
      "text/plain": [
       "15"
      ]
     },
     "execution_count": 168,
     "metadata": {},
     "output_type": "execute_result"
    }
   ],
   "source": [
    "reduce( lambda x, y: x + y, [ 1, 2, 3, 4, 5 ] )"
   ]
  },
  {
   "cell_type": "code",
   "execution_count": 169,
   "metadata": {},
   "outputs": [
    {
     "data": {
      "text/plain": [
       "120"
      ]
     },
     "execution_count": 169,
     "metadata": {},
     "output_type": "execute_result"
    }
   ],
   "source": [
    "reduce( lambda x, y: x * y, [ 1, 2, 3, 4, 5 ] )"
   ]
  },
  {
   "cell_type": "code",
   "execution_count": 170,
   "metadata": {},
   "outputs": [],
   "source": [
    "def complex_reduce(x, y):\n",
    "    print(x, y)\n",
    "    \n",
    "    return x + y"
   ]
  },
  {
   "cell_type": "code",
   "execution_count": 171,
   "metadata": {},
   "outputs": [
    {
     "name": "stdout",
     "output_type": "stream",
     "text": [
      "1 2\n",
      "3 3\n",
      "6 4\n",
      "10 5\n"
     ]
    },
    {
     "data": {
      "text/plain": [
       "15"
      ]
     },
     "execution_count": 171,
     "metadata": {},
     "output_type": "execute_result"
    }
   ],
   "source": [
    "reduce( lambda x, y: complex_reduce(x, y), [ 1, 2, 3, 4, 5 ] )"
   ]
  },
  {
   "cell_type": "markdown",
   "metadata": {},
   "source": [
    "## Словари"
   ]
  },
  {
   "cell_type": "code",
   "execution_count": 172,
   "metadata": {},
   "outputs": [],
   "source": [
    "stats = {\n",
    "    '2017-05-01': 100,\n",
    "    '2017-05-02': 101,\n",
    "    '2017-05-03': 102\n",
    "}"
   ]
  },
  {
   "cell_type": "code",
   "execution_count": 173,
   "metadata": {},
   "outputs": [
    {
     "name": "stdout",
     "output_type": "stream",
     "text": [
      "100\n"
     ]
    }
   ],
   "source": [
    "# обращение к элементу словаря\n",
    "print( stats['2017-05-01'] )"
   ]
  },
  {
   "cell_type": "code",
   "execution_count": 174,
   "metadata": {},
   "outputs": [
    {
     "name": "stdout",
     "output_type": "stream",
     "text": [
      "100\n",
      "101\n",
      "102\n"
     ]
    }
   ],
   "source": [
    "# пройтись по элементам словаря\n",
    "for key in stats.values():\n",
    "    print( key )"
   ]
  },
  {
   "cell_type": "code",
   "execution_count": 175,
   "metadata": {},
   "outputs": [
    {
     "name": "stdout",
     "output_type": "stream",
     "text": [
      "3\n"
     ]
    }
   ],
   "source": [
    "# количество ключей\n",
    "print( len( stats ) )"
   ]
  },
  {
   "cell_type": "markdown",
   "metadata": {},
   "source": [
    "### Ключ должен существовать"
   ]
  },
  {
   "cell_type": "code",
   "execution_count": 176,
   "metadata": {},
   "outputs": [
    {
     "ename": "KeyError",
     "evalue": "'2017-05-04'",
     "output_type": "error",
     "traceback": [
      "\u001b[1;31m---------------------------------------------------------------------------\u001b[0m",
      "\u001b[1;31mKeyError\u001b[0m                                  Traceback (most recent call last)",
      "\u001b[1;32m<ipython-input-176-671752c172c4>\u001b[0m in \u001b[0;36m<module>\u001b[1;34m\u001b[0m\n\u001b[1;32m----> 1\u001b[1;33m \u001b[0mstats\u001b[0m\u001b[1;33m[\u001b[0m\u001b[1;34m'2017-05-04'\u001b[0m\u001b[1;33m]\u001b[0m\u001b[1;33m\u001b[0m\u001b[1;33m\u001b[0m\u001b[0m\n\u001b[0m",
      "\u001b[1;31mKeyError\u001b[0m: '2017-05-04'"
     ]
    }
   ],
   "source": [
    "stats['2017-05-04']"
   ]
  },
  {
   "cell_type": "code",
   "execution_count": 181,
   "metadata": {},
   "outputs": [
    {
     "name": "stdout",
     "output_type": "stream",
     "text": [
      "Ok\n",
      "{'2017-05-01': 100, '2017-05-02': 101, '2017-05-03': 102, '2017-05-04': 0}\n"
     ]
    }
   ],
   "source": [
    "# проверка на наличие ключа в словаре\n",
    "newDate = '2017-05-04'\n",
    "newDateValue = 103\n",
    "\n",
    "if newDate in stats:\n",
    "    print( 'Ok' )\n",
    "    \n",
    "else:\n",
    "    stats[ newDate ] = newDateValue\n",
    "\n",
    "print( stats )"
   ]
  },
  {
   "cell_type": "code",
   "execution_count": 182,
   "metadata": {},
   "outputs": [],
   "source": [
    "stats = {\n",
    "    '2017-05-01': 100,\n",
    "    '2017-05-02': 101,\n",
    "    '2017-05-03': 102\n",
    "}"
   ]
  },
  {
   "cell_type": "code",
   "execution_count": 183,
   "metadata": {},
   "outputs": [
    {
     "name": "stdout",
     "output_type": "stream",
     "text": [
      "{'2017-05-01': 100, '2017-05-02': 101, '2017-05-03': 102, '2017-05-04': 103}\n"
     ]
    }
   ],
   "source": [
    "# вариант покороче\n",
    "\n",
    "# проверка на наличие ключа в словаре\n",
    "newDate = '2017-05-04'\n",
    "newDateValue = 103\n",
    "\n",
    "stats[ newDate ] = 0\n",
    "stats[ newDate ] = newDateValue\n",
    "\n",
    "print( stats )"
   ]
  },
  {
   "cell_type": "markdown",
   "metadata": {},
   "source": [
    "default не изменяет существующие значения"
   ]
  },
  {
   "cell_type": "code",
   "execution_count": 184,
   "metadata": {},
   "outputs": [
    {
     "data": {
      "text/plain": [
       "{'2017-05-01': 100}"
      ]
     },
     "execution_count": 184,
     "metadata": {},
     "output_type": "execute_result"
    }
   ],
   "source": [
    "stats = {'2017-05-01': 100}\n",
    "\n",
    "stats.default('2017-05-01', 0)\n",
    "stats"
   ]
  },
  {
   "cell_type": "markdown",
   "metadata": {},
   "source": [
    "### Копирование словарей"
   ]
  },
  {
   "cell_type": "code",
   "execution_count": null,
   "metadata": {},
   "outputs": [],
   "source": [
    "newStatsDict = stats"
   ]
  },
  {
   "cell_type": "code",
   "execution_count": null,
   "metadata": {},
   "outputs": [],
   "source": [
    "newStatsDict['2017-05-05'] = 200\n",
    "print( stats )"
   ]
  },
  {
   "cell_type": "code",
   "execution_count": null,
   "metadata": {},
   "outputs": [],
   "source": [
    "stats = {\n",
    "    '2017-05-01': 100,\n",
    "    '2017-05-02': 101,\n",
    "    '2017-05-03': 102\n",
    "}"
   ]
  },
  {
   "cell_type": "code",
   "execution_count": null,
   "metadata": {},
   "outputs": [],
   "source": [
    "newStatsDict = stats.copy()"
   ]
  },
  {
   "cell_type": "code",
   "execution_count": null,
   "metadata": {},
   "outputs": [],
   "source": [
    "newStatsDict['2017-05-05'] = 200\n",
    "print( stats )"
   ]
  },
  {
   "cell_type": "code",
   "execution_count": null,
   "metadata": {},
   "outputs": [],
   "source": [
    "# проходим по ключам\n",
    "for key in stats.keys():\n",
    "    print( key )"
   ]
  },
  {
   "cell_type": "code",
   "execution_count": null,
   "metadata": {},
   "outputs": [],
   "source": [
    "# проходим по значениям\n",
    "for value in stats.values():\n",
    "    print( value )"
   ]
  },
  {
   "cell_type": "code",
   "execution_count": null,
   "metadata": {},
   "outputs": [],
   "source": [
    "newData = {\n",
    "    '2017-05-10': 999\n",
    "}"
   ]
  },
  {
   "cell_type": "code",
   "execution_count": null,
   "metadata": {},
   "outputs": [],
   "source": [
    "stats.update( newData )\n",
    "print( stats )"
   ]
  },
  {
   "cell_type": "markdown",
   "metadata": {},
   "source": [
    "## Словари и листы"
   ]
  },
  {
   "cell_type": "code",
   "execution_count": 185,
   "metadata": {},
   "outputs": [],
   "source": [
    "test = [ 1, 0, 0, 1 ]\n",
    "predictions = [ 0.89, 0.34, 0.08, 0.67 ]"
   ]
  },
  {
   "cell_type": "code",
   "execution_count": 186,
   "metadata": {},
   "outputs": [
    {
     "name": "stdout",
     "output_type": "stream",
     "text": [
      "(1, 0.89)\n",
      "(0, 0.34)\n",
      "(0, 0.08)\n",
      "(1, 0.67)\n"
     ]
    }
   ],
   "source": [
    "for pairs in zip( test, predictions ):\n",
    "    print( pairs )"
   ]
  },
  {
   "cell_type": "code",
   "execution_count": 187,
   "metadata": {},
   "outputs": [],
   "source": [
    "categories = [ 'Еда', 'Авто', 'Политика' ]\n",
    "audience = [ 100, 200, 300 ]"
   ]
  },
  {
   "cell_type": "code",
   "execution_count": 188,
   "metadata": {},
   "outputs": [
    {
     "name": "stdout",
     "output_type": "stream",
     "text": [
      "('Еда', 100)\n",
      "('Авто', 200)\n",
      "('Политика', 300)\n"
     ]
    }
   ],
   "source": [
    "category_audience = zip( categories, audience )\n",
    "for element in category_audience:\n",
    "    print( element )"
   ]
  },
  {
   "cell_type": "code",
   "execution_count": 189,
   "metadata": {},
   "outputs": [
    {
     "name": "stdout",
     "output_type": "stream",
     "text": [
      "{'Еда': 100, 'Авто': 200, 'Политика': 300}\n"
     ]
    }
   ],
   "source": [
    "categoriesDict = dict( zip( categories, audience ) )\n",
    "print( categoriesDict )"
   ]
  },
  {
   "cell_type": "markdown",
   "metadata": {},
   "source": [
    "## Количество элементов в больших массивах данных"
   ]
  },
  {
   "cell_type": "code",
   "execution_count": 190,
   "metadata": {},
   "outputs": [],
   "source": [
    "# имеется большой лист значений, в первом столбце которого количество элементов относительно невелико\n",
    "\n",
    "big_data_list = [\n",
    "    ['google', 'cpc', 925],\n",
    "    ['yandex', 'organic', 790],\n",
    "    ['market', 'cpc', 465],\n",
    "    ['google', 'organic', 413],\n",
    "    ['google', 'cpc', 398],\n",
    "    ['direct', 'none', 115],\n",
    "    ['yandex', 'cpc', 43]\n",
    "]"
   ]
  },
  {
   "cell_type": "code",
   "execution_count": 191,
   "metadata": {},
   "outputs": [
    {
     "data": {
      "text/plain": [
       "{'google': 1736, 'yandex': 833, 'market': 465, 'direct': 115}"
      ]
     },
     "execution_count": 191,
     "metadata": {},
     "output_type": "execute_result"
    }
   ],
   "source": [
    "stats = {}\n",
    "\n",
    "for line in big_data_list:\n",
    "    stats.default(line[0], 0)\n",
    "    stats[line[0]] += line[2]\n",
    "\n",
    "stats"
   ]
  },
  {
   "cell_type": "code",
   "execution_count": 198,
   "metadata": {},
   "outputs": [],
   "source": [
    "stats = {}\n",
    "for line in big_data_list:\n",
    "    stats.default(line[0], 0)\n",
    "    stats[line[0]] += line[2]\n"
   ]
  },
  {
   "cell_type": "code",
   "execution_count": 199,
   "metadata": {},
   "outputs": [
    {
     "data": {
      "text/plain": [
       "{'google': 1736, 'yandex': 833, 'market': 465, 'direct': 115}"
      ]
     },
     "execution_count": 199,
     "metadata": {},
     "output_type": "execute_result"
    }
   ],
   "source": [
    "stats"
   ]
  },
  {
   "cell_type": "markdown",
   "metadata": {},
   "source": [
    "## Упражнение (by guryanoffilya)"
   ]
  },
  {
   "cell_type": "markdown",
   "metadata": {},
   "source": [
    "Посчитайте количество уникальных значений канала в листе big_data_list (второй столбец)"
   ]
  },
  {
   "cell_type": "code",
   "execution_count": 202,
   "metadata": {},
   "outputs": [],
   "source": [
    "values = {}\n",
    "for line in big_data_list:\n",
    "    values.default(line[1])\n",
    "    "
   ]
  },
  {
   "cell_type": "code",
   "execution_count": 203,
   "metadata": {},
   "outputs": [
    {
     "data": {
      "text/plain": [
       "3"
      ]
     },
     "execution_count": 203,
     "metadata": {},
     "output_type": "execute_result"
    }
   ],
   "source": [
    "len(values)"
   ]
  },
  {
   "cell_type": "code",
   "execution_count": 207,
   "metadata": {},
   "outputs": [],
   "source": [
    "values = []\n",
    "for line in big_data_list:\n",
    "    values.append(line[1])"
   ]
  },
  {
   "cell_type": "code",
   "execution_count": 211,
   "metadata": {},
   "outputs": [
    {
     "data": {
      "text/plain": [
       "3"
      ]
     },
     "execution_count": 211,
     "metadata": {},
     "output_type": "execute_result"
    }
   ],
   "source": [
    "len((values))"
   ]
  },
  {
   "cell_type": "markdown",
   "metadata": {},
   "source": [
    "## Регулярные выражения"
   ]
  },
  {
   "cell_type": "code",
   "execution_count": 167,
   "metadata": {},
   "outputs": [],
   "source": [
    "# https://docs.python.org/2/library/re.html#re.compile\n",
    "import re\n",
    "\n",
    "# шаблон страницы новостей (любые символы, потом / и 8 цифр подряд)\n",
    "# http://www.petefreitag.com/cheatsheets/regex/\n",
    "#pattern = '.*/[0-9]{0}'\n",
    "pattern = '.*/[0-9]{8}'\n",
    "prog = re.compile( pattern )"
   ]
  },
  {
   "cell_type": "code",
   "execution_count": 168,
   "metadata": {},
   "outputs": [
    {
     "name": "stdout",
     "output_type": "stream",
     "text": [
      "/politics/36188461-s-marta-zhizn-rossiyan-suschestvenno-izmenitsya-iz-za-novyh-zakonov/\n",
      "/world/36007585-tramp-pridumal-kak-reshit-ukrainskiy-vopros/\n",
      "/science/36157853-nasa-sobiraet-ekstrennuyu-press-konferentsiyu-na-temu-vnezemnoy-zhizni/\n",
      "/video/36001498-poyavilis-pervye-podrobnosti-gibeli-natali-melamed/\n",
      "/world/36007585-tramp-pridumal-kak-reshit-ukrainskiy-vopros/?smi2=1\n",
      "/middleeast/36131117-divizion-s-400-ne-zametil-ataki-f-35-pod-damaskom/\n",
      "/economics/36065674-rossiyane-vozmutilis-minimalnymi-zarplatami-v-stranah-es/\n",
      "/politics/36118047-otets-24-detey-potreboval-izvineniy-ot-soloveva/?smi2=1\n",
      "/travel/36194479-v-sheremetevo-passazhiry-ustroili-bunt/\n",
      "/politics/35638742-nesolidno-mariya-zaharova-sdelala-neozhidannoe-priznanie/\n",
      "/video/36012692-tramp-otkrestilsya-ot-rossii-i-putina/\n",
      "/starlife/36174817-guzeeva-rasstalas-s-muzhem/\n",
      "/health/36149308-predlozheno-prostoe-sredstvo-ot-insulta/\n",
      "/science/36139723-set-vzbudorazhila-novost-o-sensatsii-nasa/\n",
      "/cis/36229699-poroshenko-obyavil-vseukrainskiy-traur/\n",
      "/incidents/36225203-tonnel-obrushilsya-v-novoy-moskve-pod-zavalami-lyudi/\n",
      "/politics/36118047-otets-24-detey-potreboval-izvineniy-ot-soloveva/\n",
      "/world/36075956-na-granitse-s-krymom-zahvachena-baza-krymsko-tatarskogo-batalona/\n",
      "/politics/36115220-mid-vystupil-s-preduprezhdeniem-k-rossiyanam/\n",
      "/world/36018565-sbu-opublikovala-zapis-peregovorov-plotnitskogo-o-sbitom-il-76/\n",
      "/politics/36150505-stala-izvestna-prichina-smerti-churkina/\n",
      "/middleeast/36131117-divizion-s-400-ne-zametil-ataki-f-35-pod-damaskom/?smi2=1\n",
      "/sport/36055585-fiyon-maye-my-prouchili-russkih-moshennikov-na-trasse/\n",
      "/crazy-world/36193471-seks-bezhentsy-vernulis-v-germaniyu-iz-novosibirskoy-glubinki/\n",
      "/crazy-world/36087352-moskvicha-shokirovala-nahodka-v-steyke/\n",
      "/incidents/36096689-rossiyskih-turistov-dvazhdy-zakidali-kamnyami-v-abhazii/\n",
      "/video/36225009-otschet-poshel-zaharchenko-nazval-srok-likvidatsii-ukrainy/\n",
      "/health/36139780-opredelen-reshayuschiy-faktor-zdorovya-zubov/\n",
      "/business/36187789-v-rf-hotyat-povysit-nalogi-dlya-obychnyh-grazhdan/\n",
      "/video/35930625-dozvonivshiysya-v-efir-ukrainskogo-tv-rasskazal-o-zhizni-v-krymu/?smi2=1\n",
      "/head/36214416-u-zheny-karachentsova-nashli-alkogol-v-krovi/\n",
      "/head/36038043-foto-otdyhayuschiy-obama-vzbudorazhil-set/slides/\n",
      "/cis/36189830-kiev-arestoval-imuschestvo-v-krymu/\n",
      "/video/36006794-pogibshaya-melamed-ostavila-predsmertnuyu-zapisku/\n",
      "/video/36082961-nikol-kidman-prishla-na-britanskiy-oskar-v-neprilichnom-plate/\n",
      "/incidents/36173928-v-ekaterinburge-migranty-ustroili-bunt/\n",
      "/video/36151719-petrosyanu-grozit-sud/\n",
      "/business/36102731-rubl-rezko-otreagiroval-na-soobscheniya-o-vstreche-putina-s-oreshkinym/\n",
      "/articles/36193368-donbass-reshil-udarit-pervym/\n",
      "/science/36178249-rasshifrovano-predskazanie-nostradamusa-na-2017-god/\n",
      "/world/36206871-na-ukraine-nachalsya-shturm-uchastnikov-blokady-donbassa/\n",
      "/science/36233829-sozdano-lekarstvo-ot-vseh-vidov-raka/\n",
      "/politics/36093799-sbezhavshuyu-iz-rossii-maksakovu-uvolili-iz-gnesinki/\n",
      "/cis/36144647-v-tsentr-kieva-styagivayut-voennuyu-tehniku/\n",
      "/starlife/36140271-skandalnoe-foto-britni-spirs-vzorvalo-instagram/\n",
      "/finances/36043911-rublyu-predrekli-dvoynoy-udar/\n",
      "/starlife/36135554-doch-valerii-snyalas-v-otkrovennoy-fotosessii/\n",
      "/starlife/36005664-dzhennifer-lopes-vzorvala-internet-intimnym-foto/\n",
      "/starlife/36240935-dzhigurde-postavili-diagnoz/\n",
      "/politics/36233197-times-britaniya-peregnula-palku-s-krymom/\n",
      "/articles/36213214-vozmozhna-bolshaya-voyna/\n",
      "/articles/36142564-ukrainu-ureguliruyut-po-tihomu/\n",
      "/starlife/36044627-u-malyshevoy-sdali-nervy-na-peredache/\n",
      "/starlife/36053306-dzhigarhanyan-dal-shokiruyuschee-intervyu-o-byvshih-zhenah/\n",
      "/business/36184872-udar-po-schetchiku-rossiyane-stolknulis-s-dikim-skachkom-tarifov-zhkh/\n",
      "/world/36195262-deputat-savchenko-predlozhila-ukraintsam-posledovat-za-krymom/\n",
      "/starlife/36014715-evelina-bledans-vyshla-v-svet-bez-nizhnego-belya/\n",
      "/europe/36046038-v-parizhskom-metro-progremel-vzryv/\n",
      "/middleeast/36024757-v-sekretnoy-tyurme-v-sirii-povesheny-13-tysyach-chelovek/\n",
      "/video/36202662-nakazanie-dlya-lukashenko-rossiya-nashla-zhestkiy-rychag-protiv-belorussii/\n",
      "/articles/36170146-rossiya-reshila-postavlyat-ugol-napryamuyu-v-donbass/\n",
      "/business/36016781-sberbank-cib-nazval-sroki-devalvatsii-rublya/\n",
      "/politics/36229424-rossiya-vyrazila-protest-bolgarii/\n",
      "/kinomusic/36016432-igorya-krutogo-prooperirovali-v-amerike/\n",
      "/starlife/36008814-minus-odin-nyusha-otkazalas-ehat-v-kiev-na-evrovidenie/\n",
      "/lifestyle/36185060-uchenye-rasskazali-kak-v-buduschem-izmenitsya-seks/\n",
      "/articles/36082911-pribaltika-i-ukraina-v-panike-ili-igla-byvaet-ne-tolko-neftyanaya/\n",
      "/politics/36203629-v-gosdume-obyasnili-perenos-dnya-zaschitnika-otechestva/\n",
      "/economics/36097033-a-zhit-za-schet-rossii-vy-gotovy/?smi2=1\n",
      "/incidents/36003455-natalya-melamed-pered-gibelyu-prozhila-v-lesu-dva-dnya/\n",
      "/starlife/36131560-maksakova-shokirovala-otkrovennymi-fotografiyami/\n",
      "/sport/36235520-v-britanii-razgorelsya-krupneyshiy-doping-skandal-v-istorii/\n",
      "/articles/36093326-shturmovat-donetsk-i-lugansk-budut-pidzhaki/\n",
      "/video/36214784-panayotov-sdelal-shokiruyuschee-priznanie/\n",
      "/world/36215106-lider-ig-obratilsya-k-boevikam-s-proschalnoy-rechyu/\n",
      "/articles/36066499-iz-za-zvaniy-anny-netrebko-i-zary-razgorelis-skandaly/\n",
      "/starlife/36096316-u-lyudmily-maksakovoy-sdali-nervy-posle-pobega-docheri-na-ukrainu/?24smi=1\n",
      "/economics/36097033-a-zhit-za-schet-rossii-vy-gotovy/\n",
      "/starlife/36096182-vdova-valeriya-zolotuhina-vstretila-novuyu-lyubov/\n",
      "/cis/35984145-kreml-prokommentiroval-soobscheniya-smi-o-vozmozhnom-razvale-eaes-iz-za-belorussii/?24smi=1\n",
      "/video/36071019-olimpiyskie-obekty-rio-prevratilis-v-ruiny/\n",
      "/science/36151301-nazvano-posledstvie-zloupotrebleniya-alkogolem/\n",
      "/incidents/36027330-vospitatelnitsu-zatravili-za-erotichnoe-foto-s-vedrom/\n",
      "/world/36103095-dominikanskih-zhurnalistov-ubili-v-pryamom-efire/\n"
     ]
    }
   ],
   "source": [
    "# если поставить опцию 'w' при обращении к файлу, то он будет очищен\n",
    "# если 'a' - данные будут добавлены в конец файла\n",
    "\n",
    "with open('URLs.txt', 'r') as f:\n",
    "    \n",
    "    for line in f:\n",
    "        # убираем символ переноса строки для каждой читаемой строчки\n",
    "        line = line.strip()\n",
    "        \n",
    "        # если текст строки удовлетворяем регулярному выражению pattern, то выводим строку\n",
    "        if prog.match( line ):\n",
    "            print( line )"
   ]
  },
  {
   "cell_type": "code",
   "execution_count": 147,
   "metadata": {},
   "outputs": [],
   "source": [
    "pattern = './*[a-z]{8}'\n",
    "prog = re.compile(pattern)\n",
    "\n"
   ]
  },
  {
   "cell_type": "code",
   "execution_count": 144,
   "metadata": {},
   "outputs": [
    {
     "ename": "ValueError",
     "evalue": "I/O operation on closed file.",
     "output_type": "error",
     "traceback": [
      "\u001b[1;31m---------------------------------------------------------------------------\u001b[0m",
      "\u001b[1;31mValueError\u001b[0m                                Traceback (most recent call last)",
      "\u001b[1;32m<ipython-input-144-c47d1089a05b>\u001b[0m in \u001b[0;36m<module>\u001b[1;34m\u001b[0m\n\u001b[0;32m      1\u001b[0m \u001b[1;32mwith\u001b[0m \u001b[0mopen\u001b[0m\u001b[1;33m(\u001b[0m\u001b[1;34m'URLs.txt'\u001b[0m\u001b[1;33m,\u001b[0m \u001b[1;34m'r'\u001b[0m\u001b[1;33m)\u001b[0m \u001b[1;32mas\u001b[0m \u001b[0mtxt\u001b[0m\u001b[1;33m:\u001b[0m\u001b[1;33m\u001b[0m\u001b[1;33m\u001b[0m\u001b[0m\n\u001b[1;32m----> 2\u001b[1;33m     \u001b[1;32mfor\u001b[0m \u001b[0mline\u001b[0m \u001b[1;32min\u001b[0m \u001b[0mf\u001b[0m\u001b[1;33m:\u001b[0m\u001b[1;33m\u001b[0m\u001b[1;33m\u001b[0m\u001b[0m\n\u001b[0m\u001b[0;32m      3\u001b[0m         \u001b[1;31m# убираем символ переноса строки для каждой читаемой строчки\u001b[0m\u001b[1;33m\u001b[0m\u001b[1;33m\u001b[0m\u001b[1;33m\u001b[0m\u001b[0m\n\u001b[0;32m      4\u001b[0m         \u001b[0mline\u001b[0m \u001b[1;33m=\u001b[0m \u001b[0mline\u001b[0m\u001b[1;33m.\u001b[0m\u001b[0mstrip\u001b[0m\u001b[1;33m(\u001b[0m\u001b[1;33m)\u001b[0m\u001b[1;33m\u001b[0m\u001b[1;33m\u001b[0m\u001b[0m\n\u001b[0;32m      5\u001b[0m \u001b[1;33m\u001b[0m\u001b[0m\n",
      "\u001b[1;31mValueError\u001b[0m: I/O operation on closed file."
     ]
    }
   ],
   "source": [
    "with open('URLs.txt', 'r') as txt:\n",
    "    for line in f:\n",
    "        # убираем символ переноса строки для каждой читаемой строчки\n",
    "        line = line.strip()\n",
    "        \n",
    "        # если текст строки удовлетворяем регулярному выражению pattern, то выводим строку\n",
    "        if prog.match( line ):\n",
    "            print( line )"
   ]
  },
  {
   "cell_type": "markdown",
   "metadata": {},
   "source": [
    "## Работа с датами"
   ]
  },
  {
   "cell_type": "code",
   "execution_count": 1,
   "metadata": {},
   "outputs": [],
   "source": [
    "from datetime import datetime, timedelta"
   ]
  },
  {
   "cell_type": "code",
   "execution_count": 2,
   "metadata": {},
   "outputs": [],
   "source": [
    "startDate = '2017-05-01' # формат string\n",
    "endDate = '2017-05-10'"
   ]
  },
  {
   "cell_type": "code",
   "execution_count": 3,
   "metadata": {},
   "outputs": [
    {
     "data": {
      "text/plain": [
       "datetime.datetime(2017, 5, 1, 0, 0)"
      ]
     },
     "execution_count": 3,
     "metadata": {},
     "output_type": "execute_result"
    }
   ],
   "source": [
    "datetime.strptime( startDate, '%Y-%m-%d' )"
   ]
  },
  {
   "cell_type": "code",
   "execution_count": 4,
   "metadata": {},
   "outputs": [
    {
     "data": {
      "text/plain": [
       "datetime.datetime(2017, 5, 9, 9, 0)"
      ]
     },
     "execution_count": 4,
     "metadata": {},
     "output_type": "execute_result"
    }
   ],
   "source": [
    "# форматы дат\n",
    "# https://docs.python.org/3/library/datetime.html\n",
    "datetime.strptime( 'May 9 2017  9:00AM', '%b %d %Y %I:%M%p' )"
   ]
  },
  {
   "cell_type": "code",
   "execution_count": 5,
   "metadata": {},
   "outputs": [
    {
     "name": "stdout",
     "output_type": "stream",
     "text": [
      "2017-05-01\n",
      "2017-05-02\n",
      "2017-05-03\n",
      "2017-05-04\n",
      "2017-05-05\n",
      "2017-05-06\n",
      "2017-05-07\n",
      "2017-05-08\n",
      "2017-05-09\n",
      "2017-05-10\n"
     ]
    }
   ],
   "source": [
    "startDateDT = datetime.strptime( startDate, '%Y-%m-%d' )\n",
    "endDateDT = datetime.strptime( endDate, '%Y-%m-%d' )\n",
    "\n",
    "currentDT = startDateDT\n",
    "\n",
    "while currentDT <= endDateDT:\n",
    "    print( currentDT.strftime( '%Y-%m-%d' ) )\n",
    "\n",
    "    currentDT += timedelta( days = 1 )"
   ]
  },
  {
   "cell_type": "markdown",
   "metadata": {},
   "source": [
    "## Logging"
   ]
  },
  {
   "cell_type": "markdown",
   "metadata": {
    "collapsed": true
   },
   "source": [
    "Что было бы круто:\n",
    "* сообщения выводятся на экран в Jupyter notebook без задержек (как это иногда бывает у print)\n",
    "* сообщения автоматом пишутся в файл в едином формате (например, когда скрипт выполняется по cron)"
   ]
  },
  {
   "cell_type": "code",
   "execution_count": null,
   "metadata": {},
   "outputs": [],
   "source": [
    "# https://docs.python.org/3.6/library/logging.html\n",
    "import logging"
   ]
  },
  {
   "cell_type": "code",
   "execution_count": null,
   "metadata": {},
   "outputs": [],
   "source": [
    "# что будем выводить / писать в файл\n",
    "# https://docs.python.org/3.6/library/logging.html#logrecord-attributes\n",
    "logger = logging.getLogger( 'Тест логгера' )\n",
    "hdlr = logging.FileHandler( 'error.log', mode = 'w' )\n",
    "formatter = logging.Formatter('%(asctime)s [LINE:%(lineno)d] %(levelname)s-8s %(message)s')\n",
    "hdlr.Formatter( formatter )\n",
    "logger.addHandler( hdlr )\n",
    "logger.Level(logging.INFO)"
   ]
  },
  {
   "cell_type": "code",
   "execution_count": null,
   "metadata": {},
   "outputs": [],
   "source": [
    "data = [ 1, 55, 'abc', 12 ]"
   ]
  },
  {
   "cell_type": "code",
   "execution_count": null,
   "metadata": {},
   "outputs": [],
   "source": [
    "for num in data:\n",
    "    # проверяем входные данные на целое число\n",
    "    if isinstance( num, int ):\n",
    "        logger.info( 'Ok %s', num )\n",
    "    \n",
    "    else:\n",
    "        logger.warning( 'Некорректное значение. Значение было %s', num )"
   ]
  },
  {
   "cell_type": "markdown",
   "metadata": {},
   "source": [
    "## Веб-запросы"
   ]
  },
  {
   "cell_type": "code",
   "execution_count": null,
   "metadata": {},
   "outputs": [],
   "source": [
    "# для выполнения запросов к API систем используется библиотека requests\n",
    "# есть еще urllib разных версий\n",
    "import requests"
   ]
  },
  {
   "cell_type": "code",
   "execution_count": null,
   "metadata": {},
   "outputs": [],
   "source": [
    "# сделаем запрос к API Вконтакте\n",
    "# используем метод users.get, который возвращает основную информацию о пользователе\n",
    "# документация метода https://new.vk.com/dev/users.get\n",
    "# как делать запросы к API ВКонтакте https://new.vk.com/dev/api_requests\n",
    "\n",
    "r = requests.get('https://api.vk.com/method/users.get?user_id=1&fields=bdate&v=5.52')"
   ]
  },
  {
   "cell_type": "code",
   "execution_count": null,
   "metadata": {},
   "outputs": [],
   "source": [
    "# лучше писать так\n",
    "\n",
    "url = 'https://api.vk.com/method/users.get'\n",
    "\n",
    "params = {\n",
    "    'user_id': 1,\n",
    "    'fields': 'bdate',\n",
    "    'v': '5.52'\n",
    "}\n",
    "\n",
    "r = requests.get( url, params = params )"
   ]
  },
  {
   "cell_type": "code",
   "execution_count": null,
   "metadata": {},
   "outputs": [],
   "source": [
    "# запрос сделали, посмотрим что пришло в ответ (дополнительное поле в запросе задали одно, информации минимум)\n",
    "r.json()"
   ]
  },
  {
   "cell_type": "code",
   "execution_count": null,
   "metadata": {},
   "outputs": [],
   "source": [
    "# это ответ в формате JSON\n",
    "# сейчас это просто строка, с которой тяжело работать\n",
    "\n",
    "r.text"
   ]
  },
  {
   "cell_type": "code",
   "execution_count": null,
   "metadata": {},
   "outputs": [],
   "source": [
    "# преобразуем строку в словарь, чтобы обращаться к нужным нам элементам\n",
    "# используем библиотеку для работы с форматом JSON\n",
    "import json\n",
    "\n",
    "response = json.loads(r.text)\n",
    "response"
   ]
  },
  {
   "cell_type": "markdown",
   "metadata": {},
   "source": [
    "Если вы уверены, что ответом является JSON:"
   ]
  },
  {
   "cell_type": "code",
   "execution_count": null,
   "metadata": {},
   "outputs": [],
   "source": [
    "response = r.json()\n",
    "response"
   ]
  },
  {
   "cell_type": "code",
   "execution_count": null,
   "metadata": {},
   "outputs": [],
   "source": [
    "# обратите внимание, что response представляет собой словарь с единственным ключом 'response'\n",
    "# значение словаря response - лист из одного элемента, который представляет собой словарь\n",
    "\n",
    "response['response'][0]"
   ]
  },
  {
   "cell_type": "code",
   "execution_count": null,
   "metadata": {},
   "outputs": [],
   "source": [
    "# для упрощения отображения заведем переменную\n",
    "data = response['response'][0]\n",
    "data['first_name']"
   ]
  },
  {
   "cell_type": "code",
   "execution_count": null,
   "metadata": {},
   "outputs": [],
   "source": [
    "# выведем полученную информацию\n",
    "# иногда при отображении русских букв возникают ошибки\n",
    "# чтобы избежать проблем в нашем случае добавляем преобразование в стандартную кодировку UTF-8\n",
    "\n",
    "print( 'ID пользователя - {:.00f}'.format( data['id'] ) )\n",
    "print( 'Имя - {}'.format( data['first_name'] ) )\n",
    "print( 'Фамилия - {}'.format( data['last_name'] ) )\n",
    "print( 'Дата рождения - {}'.format( data['bdate'] ) )"
   ]
  },
  {
   "cell_type": "markdown",
   "metadata": {
    "collapsed": true
   },
   "source": [
    "## Try-except"
   ]
  },
  {
   "cell_type": "markdown",
   "metadata": {
    "collapsed": true
   },
   "source": [
    "Имеется файл data_bugs.txt с двумя столбцами чисел. Нужно посчитать сумму второго столбца. Проблема в том, что там файле есть две ошибки: пятый элемент не является числом, девятый - отсутствует"
   ]
  },
  {
   "cell_type": "code",
   "execution_count": null,
   "metadata": {},
   "outputs": [],
   "source": [
    "# итоговая сумма, которую надо посчитать\n",
    "totalSum = 0\n",
    "\n",
    "# счетчик номера строки\n",
    "lineNumber = 1\n",
    "\n",
    "with open( 'data_bugs.txt', 'r' ) as f:\n",
    "    for line in f:\n",
    "        \n",
    "        # проверяем, что в текущую строку можно считать в два значения\n",
    "        try:\n",
    "            line = line.strip().split('\\t')\n",
    "\n",
    "            # можно использовать запись (тогда будет ошибка ValueError)\n",
    "            # lineID, value = line.strip().split('\\t')\n",
    "            lineID = line[0]\n",
    "            value = line[1]\n",
    "\n",
    "            totalSum += int( value )\n",
    "        \n",
    "        except IndexError as iError:\n",
    "            print( 'Похоже в строке {} один столбец'.format( lineNumber ) )\n",
    "            print( iError )\n",
    "            print( '' )\n",
    "        \n",
    "        except ValueError as vError:\n",
    "            print( 'Значение строки {} не было целым числом'.format( lineNumber ) )\n",
    "            print( vError )\n",
    "            print( '' )\n",
    "            \n",
    "        except Exception as e:\n",
    "            print( 'Внезапная ошибка на строке P{. Вот что известно:'.format( lineNumber ) )\n",
    "            print( e )\n",
    "        \n",
    "        \n",
    "        connection.close()\n",
    "        \n",
    "        lineNumber += 1\n",
    "\n",
    "print( totalSum )"
   ]
  },
  {
   "cell_type": "markdown",
   "metadata": {},
   "source": [
    "# Домашка ростелеком"
   ]
  },
  {
   "cell_type": "code",
   "execution_count": null,
   "metadata": {},
   "outputs": [],
   "source": []
  },
  {
   "cell_type": "code",
   "execution_count": 116,
   "metadata": {},
   "outputs": [],
   "source": [
    "from collections import Counter\n",
    "def canMakeWord(TargetWord, setWord, wordDict):\n",
    "    \"\"\"Метод проверяет, можно ли составить из word - TargetWord. \n",
    "    canMakeWord(Target) вернет True, поскольку в слове ростелеком есть слово рост\n",
    "    \n",
    "    Принимает:\n",
    "    \n",
    "    TargetWord - проверяемое слово\n",
    "    setWord - уникальные значения ключевого слова\n",
    "    wordDict словарь с количеством уникальных значения\n",
    "    \n",
    "    canMakeWord('ростов', set('роостелеком'), Counter('ростелеком')) False\n",
    "    canMakeWord('рост', set('роостелеком'), Counter('ростелеком'))   True\"\"\"\n",
    "    setTargetWord = set(TargetWord)\n",
    "    \n",
    "    if len(setTargetWord) > len(setWord):\n",
    "        return False\n",
    "    else:\n",
    "        TargetWordDict = (Counter(sorted(TargetWord)))\n",
    "        targetWord = (sorted(setTargetWord))\n",
    "        for i in targetWord:\n",
    "            if wordDict[i] < TargetWordDict[i]:\n",
    "                return False\n",
    "        return True\n"
   ]
  },
  {
   "cell_type": "code",
   "execution_count": 130,
   "metadata": {},
   "outputs": [],
   "source": [
    "wordSet = set('ростелеком')\n",
    "dictWord = Counter('ростелеком')"
   ]
  },
  {
   "cell_type": "code",
   "execution_count": 132,
   "metadata": {},
   "outputs": [
    {
     "data": {
      "text/plain": [
       "False"
      ]
     },
     "execution_count": 132,
     "metadata": {},
     "output_type": "execute_result"
    }
   ],
   "source": [
    "canMakeWord('ростов', wordSet, dictWord)"
   ]
  },
  {
   "cell_type": "code",
   "execution_count": 133,
   "metadata": {},
   "outputs": [
    {
     "name": "stdout",
     "output_type": "stream",
     "text": [
      "Wall time: 21.5 s\n"
     ]
    }
   ],
   "source": [
    "%%time\n",
    "with open('russian.txt', 'r') as f:\n",
    "    a = []\n",
    "    for line in f:\n",
    "        # убираем символ переноса строки для каждой читаемой строчки\n",
    "        line = line.strip()\n",
    "        if canMakeWord(line, wordSet, dictWord):\n",
    "            a.append(line)\n",
    "        # если текст строки удовлетворяем регулярному выражению pattern, то выводим строку\n",
    "        "
   ]
  },
  {
   "cell_type": "code",
   "execution_count": 136,
   "metadata": {},
   "outputs": [
    {
     "data": {
      "text/plain": [
       "['е',\n",
       " 'е',\n",
       " 'ее',\n",
       " 'ее',\n",
       " 'ел',\n",
       " 'еле',\n",
       " 'елк',\n",
       " 'елке',\n",
       " 'елке',\n",
       " 'ело',\n",
       " 'елок',\n",
       " 'елок',\n",
       " 'ем',\n",
       " 'еме',\n",
       " 'емко',\n",
       " 'емко',\n",
       " 'емкое',\n",
       " 'емкое',\n",
       " 'емок',\n",
       " 'емок',\n",
       " 'ер',\n",
       " 'ере',\n",
       " 'ерм',\n",
       " 'ермолке',\n",
       " 'ермолок',\n",
       " 'ером',\n",
       " 'ерс',\n",
       " 'ес',\n",
       " 'есл',\n",
       " 'есм',\n",
       " 'ест',\n",
       " 'есте',\n",
       " 'естем',\n",
       " 'ет',\n",
       " 'к',\n",
       " 'ке',\n",
       " 'кел',\n",
       " 'келес',\n",
       " 'кем',\n",
       " 'кермес',\n",
       " 'кермет',\n",
       " 'кете',\n",
       " 'кл',\n",
       " 'кле',\n",
       " 'клее',\n",
       " 'клеем',\n",
       " 'клер',\n",
       " 'клерет',\n",
       " 'клест',\n",
       " 'клест',\n",
       " 'клет',\n",
       " 'кло',\n",
       " 'км',\n",
       " 'ко',\n",
       " 'кое',\n",
       " 'коем',\n",
       " 'кол',\n",
       " 'коле',\n",
       " 'колее',\n",
       " 'колем',\n",
       " 'колер',\n",
       " 'колере',\n",
       " 'колером',\n",
       " 'колес',\n",
       " 'колес',\n",
       " 'колесе',\n",
       " 'колесо',\n",
       " 'колесом',\n",
       " 'колет',\n",
       " 'колете',\n",
       " 'колетом',\n",
       " 'коло',\n",
       " 'колом',\n",
       " 'колос',\n",
       " 'колосе',\n",
       " 'колот',\n",
       " 'ком',\n",
       " 'коме',\n",
       " 'комет',\n",
       " 'комете',\n",
       " 'комо',\n",
       " 'комор',\n",
       " 'коморе',\n",
       " 'кор',\n",
       " 'коре',\n",
       " 'корм',\n",
       " 'корме',\n",
       " 'коро',\n",
       " 'короле',\n",
       " 'королем',\n",
       " 'королем',\n",
       " 'коросте',\n",
       " 'коростеле',\n",
       " 'коростелем',\n",
       " 'коростелем',\n",
       " 'корот',\n",
       " 'корс',\n",
       " 'корсет',\n",
       " 'корсете',\n",
       " 'корсетом',\n",
       " 'корт',\n",
       " 'корте',\n",
       " 'кортом',\n",
       " 'кос',\n",
       " 'косе',\n",
       " 'косм',\n",
       " 'космолет',\n",
       " 'космолет',\n",
       " 'космолете',\n",
       " 'космолете',\n",
       " 'косо',\n",
       " 'косое',\n",
       " 'косом',\n",
       " 'кост',\n",
       " 'косте',\n",
       " 'костел',\n",
       " 'костел',\n",
       " 'костеле',\n",
       " 'костеле',\n",
       " 'костелом',\n",
       " 'костелом',\n",
       " 'костер',\n",
       " 'костер',\n",
       " 'костре',\n",
       " 'костром',\n",
       " 'кот',\n",
       " 'коте',\n",
       " 'котел',\n",
       " 'котел',\n",
       " 'котле',\n",
       " 'котлом',\n",
       " 'кото',\n",
       " 'котом',\n",
       " 'котор',\n",
       " 'кр',\n",
       " 'кре',\n",
       " 'крем',\n",
       " 'креме',\n",
       " 'кремле',\n",
       " 'креол',\n",
       " 'креоле',\n",
       " 'креолом',\n",
       " 'крес',\n",
       " 'кресе',\n",
       " 'кресел',\n",
       " 'кресл',\n",
       " 'кресле',\n",
       " 'кресло',\n",
       " 'креслом',\n",
       " 'крест',\n",
       " 'кресте',\n",
       " 'крестом',\n",
       " 'кро',\n",
       " 'кроем',\n",
       " 'кроет',\n",
       " 'кроете',\n",
       " 'кроле',\n",
       " 'кролем',\n",
       " 'кром',\n",
       " 'кроме',\n",
       " 'крот',\n",
       " 'кроте',\n",
       " 'крото',\n",
       " 'кротом',\n",
       " 'кс',\n",
       " 'кст',\n",
       " 'кт',\n",
       " 'кто',\n",
       " 'л',\n",
       " 'ле',\n",
       " 'лее',\n",
       " 'леек',\n",
       " 'леем',\n",
       " 'леер',\n",
       " 'леером',\n",
       " 'лек',\n",
       " 'лекс',\n",
       " 'лексем',\n",
       " 'лекто',\n",
       " 'лектор',\n",
       " 'лекторе',\n",
       " 'лектором',\n",
       " 'лем',\n",
       " 'лео',\n",
       " 'лерке',\n",
       " 'лерок',\n",
       " 'лес',\n",
       " 'лесе',\n",
       " 'леск',\n",
       " 'леске',\n",
       " 'леско',\n",
       " 'леском',\n",
       " 'лесок',\n",
       " 'лесом',\n",
       " 'лест',\n",
       " 'лет',\n",
       " 'лет',\n",
       " 'лете',\n",
       " 'лете',\n",
       " 'летке',\n",
       " 'летке',\n",
       " 'лето',\n",
       " 'леток',\n",
       " 'леток',\n",
       " 'летом',\n",
       " 'летом',\n",
       " 'ло',\n",
       " 'лок',\n",
       " 'локт',\n",
       " 'локте',\n",
       " 'локтем',\n",
       " 'лом',\n",
       " 'ломе',\n",
       " 'ломк',\n",
       " 'ломке',\n",
       " 'ломко',\n",
       " 'ломкое',\n",
       " 'ломок',\n",
       " 'ломот',\n",
       " 'ломоте',\n",
       " 'ломте',\n",
       " 'лор',\n",
       " 'лоре',\n",
       " 'лорет',\n",
       " 'лором',\n",
       " 'лос',\n",
       " 'лосе',\n",
       " 'лосем',\n",
       " 'лоск',\n",
       " 'лоске',\n",
       " 'лоском',\n",
       " 'лот',\n",
       " 'лоте',\n",
       " 'лотке',\n",
       " 'лотком',\n",
       " 'лото',\n",
       " 'лоток',\n",
       " 'лотом',\n",
       " 'лотос',\n",
       " 'лотосе',\n",
       " 'лт',\n",
       " 'м',\n",
       " 'ме',\n",
       " 'мел',\n",
       " 'мел',\n",
       " 'меле',\n",
       " 'мелет',\n",
       " 'мелк',\n",
       " 'мелке',\n",
       " 'мелко',\n",
       " 'мелкое',\n",
       " 'мелкоте',\n",
       " 'мело',\n",
       " 'мелок',\n",
       " 'мелос',\n",
       " 'мелосе',\n",
       " 'мер',\n",
       " 'мер',\n",
       " 'мере',\n",
       " 'мерк',\n",
       " 'мерке',\n",
       " 'меркло',\n",
       " 'мерклое',\n",
       " 'мерло',\n",
       " 'мерло',\n",
       " 'мерок',\n",
       " 'мерт',\n",
       " 'мес',\n",
       " 'мест',\n",
       " 'месте',\n",
       " 'место',\n",
       " 'мет',\n",
       " 'мете',\n",
       " 'метек',\n",
       " 'метел',\n",
       " 'метел',\n",
       " 'метелок',\n",
       " 'метелок',\n",
       " 'метеор',\n",
       " 'метке',\n",
       " 'метко',\n",
       " 'меткое',\n",
       " 'метле',\n",
       " 'мето',\n",
       " 'меток',\n",
       " 'метол',\n",
       " 'метоле',\n",
       " 'метр',\n",
       " 'метре',\n",
       " 'метро',\n",
       " 'мкл',\n",
       " 'мкс',\n",
       " 'мл',\n",
       " 'млеет',\n",
       " 'млеко',\n",
       " 'мо',\n",
       " 'мое',\n",
       " 'мое',\n",
       " 'моек',\n",
       " 'моет',\n",
       " 'моете',\n",
       " 'мок',\n",
       " 'мокло',\n",
       " 'мокор',\n",
       " 'мокр',\n",
       " 'мокрее',\n",
       " 'мокро',\n",
       " 'мокрое',\n",
       " 'мокроте',\n",
       " 'мол',\n",
       " 'моле',\n",
       " 'моло',\n",
       " 'молок',\n",
       " 'молоке',\n",
       " 'молот',\n",
       " 'молоте',\n",
       " 'молотке',\n",
       " 'мор',\n",
       " 'море',\n",
       " 'моро',\n",
       " 'морок',\n",
       " 'мороке',\n",
       " 'морс',\n",
       " 'морсе',\n",
       " 'морск',\n",
       " 'морско',\n",
       " 'морское',\n",
       " 'мос',\n",
       " 'мосек',\n",
       " 'моск',\n",
       " 'моско',\n",
       " 'мосол',\n",
       " 'мост',\n",
       " 'мосте',\n",
       " 'мостке',\n",
       " 'мосток',\n",
       " 'мот',\n",
       " 'моте',\n",
       " 'мотеле',\n",
       " 'мотке',\n",
       " 'моток',\n",
       " 'мотор',\n",
       " 'моторе',\n",
       " 'моторке',\n",
       " 'мр',\n",
       " 'мрет',\n",
       " 'мрет',\n",
       " 'мс',\n",
       " 'мст',\n",
       " 'мстере',\n",
       " 'о',\n",
       " 'ое',\n",
       " 'ок',\n",
       " 'оке',\n",
       " 'окл',\n",
       " 'око',\n",
       " 'окоем',\n",
       " 'окоем',\n",
       " 'окол',\n",
       " 'околеем',\n",
       " 'околеет',\n",
       " 'оком',\n",
       " 'окорм',\n",
       " 'окосеем',\n",
       " 'окосеет',\n",
       " 'окосел',\n",
       " 'окот',\n",
       " 'окоте',\n",
       " 'окр',\n",
       " 'окре',\n",
       " 'окрес',\n",
       " 'окрест',\n",
       " 'окрол',\n",
       " 'окроме',\n",
       " 'ол',\n",
       " 'оле',\n",
       " 'олес',\n",
       " 'олесе',\n",
       " 'олк',\n",
       " 'ом',\n",
       " 'оме',\n",
       " 'омеле',\n",
       " 'омер',\n",
       " 'омет',\n",
       " 'омет',\n",
       " 'омлет',\n",
       " 'омлете',\n",
       " 'омоет',\n",
       " 'омоете',\n",
       " 'омское',\n",
       " 'ор',\n",
       " 'оре',\n",
       " 'орел',\n",
       " 'орел',\n",
       " 'орем',\n",
       " 'орем',\n",
       " 'ореол',\n",
       " 'ореоле',\n",
       " 'орест',\n",
       " 'орет',\n",
       " 'орет',\n",
       " 'орете',\n",
       " 'орете',\n",
       " 'орк',\n",
       " 'оркес',\n",
       " 'орл',\n",
       " 'орле',\n",
       " 'орлом',\n",
       " 'оро',\n",
       " 'орок',\n",
       " 'орское',\n",
       " 'орском',\n",
       " 'орт',\n",
       " 'орте',\n",
       " 'орто',\n",
       " 'ортом',\n",
       " 'ос',\n",
       " 'осе',\n",
       " 'осек',\n",
       " 'осел',\n",
       " 'осел',\n",
       " 'оселе',\n",
       " 'оселке',\n",
       " 'оселком',\n",
       " 'осело',\n",
       " 'оселок',\n",
       " 'осер',\n",
       " 'осетр',\n",
       " 'осетр',\n",
       " 'осетре',\n",
       " 'осетре',\n",
       " 'осетром',\n",
       " 'осетром',\n",
       " 'оск',\n",
       " 'оско',\n",
       " 'оскол',\n",
       " 'оскор',\n",
       " 'осл',\n",
       " 'осле',\n",
       " 'ослом',\n",
       " 'осм',\n",
       " 'осмеет',\n",
       " 'осмеет',\n",
       " 'осмел',\n",
       " 'осмо',\n",
       " 'осмол',\n",
       " 'осмоле',\n",
       " 'осмолке',\n",
       " 'осмот',\n",
       " 'осмотр',\n",
       " 'осмотре',\n",
       " 'осмотрел',\n",
       " 'осо',\n",
       " 'осоке',\n",
       " 'осот',\n",
       " 'ост',\n",
       " 'осте',\n",
       " 'остеоме',\n",
       " 'остер',\n",
       " 'остер',\n",
       " 'осто',\n",
       " 'остом',\n",
       " 'остор',\n",
       " 'остр',\n",
       " 'острее',\n",
       " 'остро',\n",
       " 'острое',\n",
       " 'остром',\n",
       " 'от',\n",
       " 'оте',\n",
       " 'отек',\n",
       " 'отек',\n",
       " 'отеке',\n",
       " 'отеке',\n",
       " 'отекло',\n",
       " 'отеком',\n",
       " 'отеком',\n",
       " 'отел',\n",
       " 'отел',\n",
       " 'отеле',\n",
       " 'отеле',\n",
       " 'отелем',\n",
       " 'отелом',\n",
       " 'отелом',\n",
       " 'отер',\n",
       " 'отер',\n",
       " 'отерло',\n",
       " 'отерло',\n",
       " 'отеске',\n",
       " 'отеске',\n",
       " 'отк',\n",
       " 'откл',\n",
       " 'откло',\n",
       " 'отко',\n",
       " 'откол',\n",
       " 'отколе',\n",
       " 'отколем',\n",
       " 'откорм',\n",
       " 'откорме',\n",
       " 'откос',\n",
       " 'откосе',\n",
       " 'откр',\n",
       " 'откро',\n",
       " 'откроем',\n",
       " 'отл',\n",
       " 'отло',\n",
       " 'отм',\n",
       " 'отме',\n",
       " 'отмел',\n",
       " 'отмел',\n",
       " 'отмело',\n",
       " 'отмер',\n",
       " 'отмерло',\n",
       " 'отмс',\n",
       " 'ото',\n",
       " 'отр',\n",
       " 'отре',\n",
       " 'отреком',\n",
       " 'отрем',\n",
       " 'отрем',\n",
       " 'отро',\n",
       " 'отроек',\n",
       " 'отроем',\n",
       " 'отрок',\n",
       " 'отроке',\n",
       " 'отрос',\n",
       " 'отс',\n",
       " 'отсе',\n",
       " 'отсеем',\n",
       " 'отсек',\n",
       " 'отсек',\n",
       " 'отсеке',\n",
       " 'отсекло',\n",
       " 'отсеком',\n",
       " 'отсел',\n",
       " 'отселе',\n",
       " 'отсело',\n",
       " 'отселок',\n",
       " 'р',\n",
       " 'ре',\n",
       " 'рее',\n",
       " 'реек',\n",
       " 'реем',\n",
       " 'реет',\n",
       " 'рек',\n",
       " 'реке',\n",
       " 'реко',\n",
       " 'реком',\n",
       " 'рекоме',\n",
       " 'реле',\n",
       " 'рем',\n",
       " 'реме',\n",
       " 'ремесл',\n",
       " 'ремесло',\n",
       " 'ресто',\n",
       " 'рет',\n",
       " 'ро',\n",
       " 'рое',\n",
       " 'роек',\n",
       " 'роек',\n",
       " 'роем',\n",
       " 'роет',\n",
       " 'роете',\n",
       " 'рок',\n",
       " 'роке',\n",
       " 'роко',\n",
       " 'роком',\n",
       " 'рокот',\n",
       " 'рокоте',\n",
       " 'рол',\n",
       " 'ром',\n",
       " 'роме',\n",
       " 'ромео',\n",
       " 'рос',\n",
       " 'росе',\n",
       " 'роск',\n",
       " 'роско',\n",
       " 'росло',\n",
       " 'рослое',\n",
       " 'рослом',\n",
       " 'рост',\n",
       " 'росте',\n",
       " 'ростке',\n",
       " 'ростком',\n",
       " 'росто',\n",
       " 'росток',\n",
       " 'ростом',\n",
       " 'рот',\n",
       " 'роте',\n",
       " 'роток',\n",
       " 'рт',\n",
       " 'рте',\n",
       " 'ртом',\n",
       " 'с',\n",
       " 'се',\n",
       " 'се',\n",
       " 'сеем',\n",
       " 'сеет',\n",
       " 'сек',\n",
       " 'сек',\n",
       " 'секло',\n",
       " 'секр',\n",
       " 'секрет',\n",
       " 'секрето',\n",
       " 'секретом',\n",
       " 'сект',\n",
       " 'секте',\n",
       " 'сектор',\n",
       " 'секторе',\n",
       " 'сектором',\n",
       " 'сел',\n",
       " 'сел',\n",
       " 'селе',\n",
       " 'селектор',\n",
       " 'селектором',\n",
       " 'селем',\n",
       " 'село',\n",
       " 'селом',\n",
       " 'сем',\n",
       " 'сем',\n",
       " 'семе',\n",
       " 'семеро',\n",
       " 'семерок',\n",
       " 'семерок',\n",
       " 'семо',\n",
       " 'сер',\n",
       " 'сере',\n",
       " 'серел',\n",
       " 'серело',\n",
       " 'серко',\n",
       " 'серо',\n",
       " 'серое',\n",
       " 'сером',\n",
       " 'сет',\n",
       " 'сете',\n",
       " 'сетке',\n",
       " 'сеток',\n",
       " 'сетом',\n",
       " 'ск',\n",
       " 'ске',\n",
       " 'скелет',\n",
       " 'скелетом',\n",
       " 'скл',\n",
       " 'склере',\n",
       " 'склероме',\n",
       " 'скло',\n",
       " 'ско',\n",
       " 'скол',\n",
       " 'сколе',\n",
       " 'сколем',\n",
       " 'сколет',\n",
       " 'сколете',\n",
       " 'сколом',\n",
       " 'сколот',\n",
       " 'ском',\n",
       " 'скор',\n",
       " 'скоре',\n",
       " 'скорее',\n",
       " 'скорм',\n",
       " 'скоро',\n",
       " 'скорое',\n",
       " 'скором',\n",
       " 'скот',\n",
       " 'скоте',\n",
       " 'скотом',\n",
       " 'скотоме',\n",
       " 'скр',\n",
       " 'скре',\n",
       " 'скро',\n",
       " 'скроем',\n",
       " 'скроет',\n",
       " 'скроете',\n",
       " 'скром',\n",
       " 'сл',\n",
       " 'сле',\n",
       " 'слет',\n",
       " 'слет',\n",
       " 'слете',\n",
       " 'слете',\n",
       " 'слеток',\n",
       " 'слеток',\n",
       " 'слетом',\n",
       " 'слетом',\n",
       " 'сло',\n",
       " 'слое',\n",
       " 'слоек',\n",
       " 'слоем',\n",
       " 'слом',\n",
       " 'сломе',\n",
       " 'слот',\n",
       " 'слоте',\n",
       " 'слотом',\n",
       " 'см',\n",
       " 'сме',\n",
       " 'смее',\n",
       " 'смеет',\n",
       " 'смек',\n",
       " 'смел',\n",
       " 'смел',\n",
       " 'смелет',\n",
       " 'смело',\n",
       " 'смелое',\n",
       " 'смер',\n",
       " 'смерк',\n",
       " 'смерт',\n",
       " 'смерте',\n",
       " 'смертел',\n",
       " 'смет',\n",
       " 'смете',\n",
       " 'сметке',\n",
       " 'сметке',\n",
       " 'смо',\n",
       " 'смоет',\n",
       " 'смоете',\n",
       " 'смол',\n",
       " 'смоле',\n",
       " 'смолк',\n",
       " 'смолке',\n",
       " 'смор',\n",
       " 'смот',\n",
       " 'смотр',\n",
       " 'смотре',\n",
       " 'смотрел',\n",
       " 'смотрело',\n",
       " 'смотрок',\n",
       " 'со',\n",
       " 'сое',\n",
       " 'соек',\n",
       " 'сок',\n",
       " 'соке',\n",
       " 'соко',\n",
       " 'сокол',\n",
       " 'соколе',\n",
       " 'соком',\n",
       " 'сокр',\n",
       " 'сокро',\n",
       " 'сол',\n",
       " 'солее',\n",
       " 'солемер',\n",
       " 'солке',\n",
       " 'соло',\n",
       " 'солом',\n",
       " 'соломе',\n",
       " 'соломке',\n",
       " 'сом',\n",
       " 'соме',\n",
       " 'сомлеет',\n",
       " 'сомо',\n",
       " 'соо',\n",
       " 'соот',\n",
       " 'сор',\n",
       " 'соре',\n",
       " 'соро',\n",
       " 'сорок',\n",
       " 'сороке',\n",
       " 'сором',\n",
       " 'сорт',\n",
       " 'сорте',\n",
       " 'сорто',\n",
       " 'сортом',\n",
       " 'сот',\n",
       " 'соте',\n",
       " 'сотке',\n",
       " 'соткем',\n",
       " 'соткем',\n",
       " 'сотое',\n",
       " 'соток',\n",
       " 'сотом',\n",
       " 'сотр',\n",
       " 'сотрем',\n",
       " 'сотрем',\n",
       " 'ср',\n",
       " 'сре',\n",
       " 'сроем',\n",
       " 'сроет',\n",
       " 'сроете',\n",
       " 'срок',\n",
       " 'сроке',\n",
       " 'сроко',\n",
       " 'сроком',\n",
       " 'ст',\n",
       " 'сте',\n",
       " 'стек',\n",
       " 'стек',\n",
       " 'стеке',\n",
       " 'стекл',\n",
       " 'стекле',\n",
       " 'стекло',\n",
       " 'стеклом',\n",
       " 'стекол',\n",
       " 'стекол',\n",
       " 'стеком',\n",
       " 'стел',\n",
       " 'стеле',\n",
       " 'стелек',\n",
       " 'стелем',\n",
       " 'стем',\n",
       " 'стеме',\n",
       " 'стер',\n",
       " 'стер',\n",
       " 'стерео',\n",
       " 'стерло',\n",
       " 'стерло',\n",
       " 'сто',\n",
       " 'стоек',\n",
       " 'сток',\n",
       " 'стоке',\n",
       " 'стокер',\n",
       " 'стоком',\n",
       " 'стол',\n",
       " 'столе',\n",
       " 'столо',\n",
       " 'столок',\n",
       " 'столом',\n",
       " 'стор',\n",
       " 'сторе',\n",
       " 'сторо',\n",
       " 'стр',\n",
       " 'стре',\n",
       " 'стрек',\n",
       " 'стрел',\n",
       " 'стреле',\n",
       " 'стрелк',\n",
       " 'стрелке',\n",
       " 'стрелком',\n",
       " 'стрелок',\n",
       " 'стреме',\n",
       " 'стреме',\n",
       " 'стремл',\n",
       " 'стремле',\n",
       " 'стро',\n",
       " 'строе',\n",
       " 'строек',\n",
       " 'строем',\n",
       " 'строк',\n",
       " 'строке',\n",
       " 'строме',\n",
       " 'т',\n",
       " 'те',\n",
       " 'тее',\n",
       " 'тек',\n",
       " 'тек',\n",
       " 'текло',\n",
       " 'текс',\n",
       " 'тел',\n",
       " 'теле',\n",
       " 'телекс',\n",
       " 'телексом',\n",
       " 'телес',\n",
       " 'телке',\n",
       " 'телке',\n",
       " 'тело',\n",
       " 'телок',\n",
       " 'телок',\n",
       " 'телом',\n",
       " 'теломе',\n",
       " 'тем',\n",
       " 'теме',\n",
       " 'теор',\n",
       " 'теорем',\n",
       " 'тер',\n",
       " 'тер',\n",
       " 'тере',\n",
       " 'тереком',\n",
       " 'терем',\n",
       " 'теремок',\n",
       " 'терке',\n",
       " 'терке',\n",
       " 'терло',\n",
       " 'терло',\n",
       " 'терм',\n",
       " 'терме',\n",
       " 'термос',\n",
       " 'термосе',\n",
       " 'терок',\n",
       " 'терок',\n",
       " 'терское',\n",
       " 'терском',\n",
       " 'тес',\n",
       " 'тес',\n",
       " 'тесе',\n",
       " 'тесе',\n",
       " 'тесемок',\n",
       " 'тесемок',\n",
       " 'теске',\n",
       " 'теске',\n",
       " 'тесло',\n",
       " 'тесок',\n",
       " 'тесок',\n",
       " 'тесом',\n",
       " 'тесом',\n",
       " 'тк',\n",
       " 'ткем',\n",
       " 'ткем',\n",
       " 'тко',\n",
       " 'тл',\n",
       " 'тле',\n",
       " 'тлеем',\n",
       " 'то',\n",
       " 'ток',\n",
       " 'токе',\n",
       " 'токмо',\n",
       " 'током',\n",
       " 'тол',\n",
       " 'толе',\n",
       " 'толем',\n",
       " 'толк',\n",
       " 'толке',\n",
       " 'толко',\n",
       " 'толком',\n",
       " 'толо',\n",
       " 'толок',\n",
       " 'толом',\n",
       " 'толс',\n",
       " 'том',\n",
       " 'томе',\n",
       " 'томское',\n",
       " 'тор',\n",
       " 'торе',\n",
       " 'торк',\n",
       " 'торо',\n",
       " 'тором',\n",
       " 'торос',\n",
       " 'торосе',\n",
       " 'торс',\n",
       " 'торсе',\n",
       " 'торсом',\n",
       " 'тос',\n",
       " 'тоск',\n",
       " 'тоске',\n",
       " 'тоско',\n",
       " 'тр',\n",
       " 'тре',\n",
       " 'трек',\n",
       " 'треке',\n",
       " 'треком',\n",
       " 'трем',\n",
       " 'трем',\n",
       " 'тремоло',\n",
       " 'трес',\n",
       " 'треск',\n",
       " 'треске',\n",
       " 'треском',\n",
       " 'тро',\n",
       " 'трое',\n",
       " 'троек',\n",
       " 'трок',\n",
       " 'трос',\n",
       " 'тросе',\n",
       " 'тросом',\n",
       " 'тс']"
      ]
     },
     "execution_count": 136,
     "metadata": {},
     "output_type": "execute_result"
    }
   ],
   "source": [
    "sorted(a)"
   ]
  },
  {
   "cell_type": "markdown",
   "metadata": {},
   "source": [
    "# Домашка новости"
   ]
  },
  {
   "cell_type": "code",
   "execution_count": null,
   "metadata": {},
   "outputs": [],
   "source": []
  },
  {
   "cell_type": "code",
   "execution_count": null,
   "metadata": {},
   "outputs": [],
   "source": []
  }
 ],
 "metadata": {
  "kernelspec": {
   "display_name": "Python 3",
   "language": "python",
   "name": "python3"
  },
  "language_info": {
   "codemirror_mode": {
    "name": "ipython",
    "version": 3
   },
   "file_extension": ".py",
   "mimetype": "text/x-python",
   "name": "python",
   "nbconvert_exporter": "python",
   "pygments_lexer": "ipython3",
   "version": "3.7.3"
  }
 },
 "nbformat": 4,
 "nbformat_minor": 2
}
