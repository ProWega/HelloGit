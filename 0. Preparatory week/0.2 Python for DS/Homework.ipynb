{
 "cells": [
  {
   "cell_type": "code",
   "execution_count": 1,
   "metadata": {},
   "outputs": [],
   "source": [
    "import pandas as pd\n",
    "import numpy as np"
   ]
  },
  {
   "cell_type": "code",
   "execution_count": 3,
   "metadata": {},
   "outputs": [],
   "source": [
    "stats = pd.read_csv('Homework/teams_stats.csv')"
   ]
  },
  {
   "cell_type": "code",
   "execution_count": 4,
   "metadata": {},
   "outputs": [
    {
     "data": {
      "text/html": [
       "<div>\n",
       "<style scoped>\n",
       "    .dataframe tbody tr th:only-of-type {\n",
       "        vertical-align: middle;\n",
       "    }\n",
       "\n",
       "    .dataframe tbody tr th {\n",
       "        vertical-align: top;\n",
       "    }\n",
       "\n",
       "    .dataframe thead th {\n",
       "        text-align: right;\n",
       "    }\n",
       "</style>\n",
       "<table border=\"1\" class=\"dataframe\">\n",
       "  <thead>\n",
       "    <tr style=\"text-align: right;\">\n",
       "      <th></th>\n",
       "      <th>Unnamed: 0</th>\n",
       "      <th>Year</th>\n",
       "      <th>Player</th>\n",
       "      <th>Pos</th>\n",
       "      <th>Age</th>\n",
       "      <th>Tm</th>\n",
       "      <th>G</th>\n",
       "      <th>GS</th>\n",
       "      <th>MP</th>\n",
       "      <th>PER</th>\n",
       "      <th>...</th>\n",
       "      <th>FT%</th>\n",
       "      <th>ORB</th>\n",
       "      <th>DRB</th>\n",
       "      <th>TRB</th>\n",
       "      <th>AST</th>\n",
       "      <th>STL</th>\n",
       "      <th>BLK</th>\n",
       "      <th>TOV</th>\n",
       "      <th>PF</th>\n",
       "      <th>PTS</th>\n",
       "    </tr>\n",
       "  </thead>\n",
       "  <tbody>\n",
       "    <tr>\n",
       "      <td>0</td>\n",
       "      <td>0</td>\n",
       "      <td>1950.0</td>\n",
       "      <td>Curly Armstrong</td>\n",
       "      <td>G-F</td>\n",
       "      <td>31.0</td>\n",
       "      <td>FTW</td>\n",
       "      <td>63.0</td>\n",
       "      <td>NaN</td>\n",
       "      <td>NaN</td>\n",
       "      <td>NaN</td>\n",
       "      <td>...</td>\n",
       "      <td>0.705</td>\n",
       "      <td>NaN</td>\n",
       "      <td>NaN</td>\n",
       "      <td>NaN</td>\n",
       "      <td>176.0</td>\n",
       "      <td>NaN</td>\n",
       "      <td>NaN</td>\n",
       "      <td>NaN</td>\n",
       "      <td>217.0</td>\n",
       "      <td>458.0</td>\n",
       "    </tr>\n",
       "  </tbody>\n",
       "</table>\n",
       "<p>1 rows × 53 columns</p>\n",
       "</div>"
      ],
      "text/plain": [
       "   Unnamed: 0    Year           Player  Pos   Age   Tm     G  GS  MP  PER  \\\n",
       "0           0  1950.0  Curly Armstrong  G-F  31.0  FTW  63.0 NaN NaN  NaN   \n",
       "\n",
       "   ...    FT%  ORB  DRB  TRB    AST  STL  BLK  TOV     PF    PTS  \n",
       "0  ...  0.705  NaN  NaN  NaN  176.0  NaN  NaN  NaN  217.0  458.0  \n",
       "\n",
       "[1 rows x 53 columns]"
      ]
     },
     "execution_count": 4,
     "metadata": {},
     "output_type": "execute_result"
    }
   ],
   "source": [
    "stats.head(1)"
   ]
  },
  {
   "cell_type": "code",
   "execution_count": 11,
   "metadata": {},
   "outputs": [
    {
     "data": {
      "text/plain": [
       "69"
      ]
     },
     "execution_count": 11,
     "metadata": {},
     "output_type": "execute_result"
    }
   ],
   "source": [
    "stats['Tm'].nunique()"
   ]
  },
  {
   "cell_type": "code",
   "execution_count": 12,
   "metadata": {},
   "outputs": [],
   "source": [
    "mount = pd.read_csv('Homework/Mountains.csv')"
   ]
  },
  {
   "cell_type": "code",
   "execution_count": 13,
   "metadata": {},
   "outputs": [
    {
     "data": {
      "text/html": [
       "<div>\n",
       "<style scoped>\n",
       "    .dataframe tbody tr th:only-of-type {\n",
       "        vertical-align: middle;\n",
       "    }\n",
       "\n",
       "    .dataframe tbody tr th {\n",
       "        vertical-align: top;\n",
       "    }\n",
       "\n",
       "    .dataframe thead th {\n",
       "        text-align: right;\n",
       "    }\n",
       "</style>\n",
       "<table border=\"1\" class=\"dataframe\">\n",
       "  <thead>\n",
       "    <tr style=\"text-align: right;\">\n",
       "      <th></th>\n",
       "      <th>Rank</th>\n",
       "      <th>Mountain</th>\n",
       "      <th>Height (m)</th>\n",
       "      <th>Height (ft)</th>\n",
       "      <th>Prominence (m)</th>\n",
       "      <th>Range</th>\n",
       "      <th>Coordinates</th>\n",
       "      <th>Parent mountain</th>\n",
       "      <th>First ascent</th>\n",
       "      <th>Ascents bef. 2004</th>\n",
       "      <th>Failed attempts bef. 2004</th>\n",
       "    </tr>\n",
       "  </thead>\n",
       "  <tbody>\n",
       "    <tr>\n",
       "      <td>0</td>\n",
       "      <td>1</td>\n",
       "      <td>Mount Everest / Sagarmatha / Chomolungma</td>\n",
       "      <td>8848</td>\n",
       "      <td>29029</td>\n",
       "      <td>8848</td>\n",
       "      <td>Mahalangur Himalaya</td>\n",
       "      <td>27°59′17″N 86°55′31″E﻿</td>\n",
       "      <td>NaN</td>\n",
       "      <td>1953</td>\n",
       "      <td>&gt;&gt;145</td>\n",
       "      <td>121.0</td>\n",
       "    </tr>\n",
       "    <tr>\n",
       "      <td>1</td>\n",
       "      <td>2</td>\n",
       "      <td>K2 / Qogir / Godwin Austen</td>\n",
       "      <td>8611</td>\n",
       "      <td>28251</td>\n",
       "      <td>4017</td>\n",
       "      <td>Baltoro Karakoram</td>\n",
       "      <td>35°52′53″N 76°30′48″E﻿</td>\n",
       "      <td>Mount Everest</td>\n",
       "      <td>1954</td>\n",
       "      <td>45</td>\n",
       "      <td>44.0</td>\n",
       "    </tr>\n",
       "    <tr>\n",
       "      <td>2</td>\n",
       "      <td>3</td>\n",
       "      <td>Kangchenjunga</td>\n",
       "      <td>8586</td>\n",
       "      <td>28169</td>\n",
       "      <td>3922</td>\n",
       "      <td>Kangchenjunga Himalaya</td>\n",
       "      <td>27°42′12″N 88°08′51″E﻿</td>\n",
       "      <td>Mount Everest</td>\n",
       "      <td>1955</td>\n",
       "      <td>38</td>\n",
       "      <td>24.0</td>\n",
       "    </tr>\n",
       "    <tr>\n",
       "      <td>3</td>\n",
       "      <td>4</td>\n",
       "      <td>Lhotse</td>\n",
       "      <td>8516</td>\n",
       "      <td>27940</td>\n",
       "      <td>610</td>\n",
       "      <td>Mahalangur Himalaya</td>\n",
       "      <td>27°57′42″N 86°55′59″E﻿</td>\n",
       "      <td>Mount Everest</td>\n",
       "      <td>1956</td>\n",
       "      <td>26</td>\n",
       "      <td>26.0</td>\n",
       "    </tr>\n",
       "    <tr>\n",
       "      <td>4</td>\n",
       "      <td>5</td>\n",
       "      <td>Makalu</td>\n",
       "      <td>8485</td>\n",
       "      <td>27838</td>\n",
       "      <td>2386</td>\n",
       "      <td>Mahalangur Himalaya</td>\n",
       "      <td>27°53′23″N 87°05′20″E﻿</td>\n",
       "      <td>Mount Everest</td>\n",
       "      <td>1955</td>\n",
       "      <td>45</td>\n",
       "      <td>52.0</td>\n",
       "    </tr>\n",
       "    <tr>\n",
       "      <td>...</td>\n",
       "      <td>...</td>\n",
       "      <td>...</td>\n",
       "      <td>...</td>\n",
       "      <td>...</td>\n",
       "      <td>...</td>\n",
       "      <td>...</td>\n",
       "      <td>...</td>\n",
       "      <td>...</td>\n",
       "      <td>...</td>\n",
       "      <td>...</td>\n",
       "      <td>...</td>\n",
       "    </tr>\n",
       "    <tr>\n",
       "      <td>113</td>\n",
       "      <td>105</td>\n",
       "      <td>Noijin Kangsang / Norin Kang</td>\n",
       "      <td>7206</td>\n",
       "      <td>23642</td>\n",
       "      <td>2160</td>\n",
       "      <td>Nagarze Himalaya</td>\n",
       "      <td>28°56′48″N 90°10′42″E﻿</td>\n",
       "      <td>Gangkar Puensum</td>\n",
       "      <td>1986</td>\n",
       "      <td>4</td>\n",
       "      <td>1.0</td>\n",
       "    </tr>\n",
       "    <tr>\n",
       "      <td>114</td>\n",
       "      <td>106</td>\n",
       "      <td>Langtang Ri</td>\n",
       "      <td>7205</td>\n",
       "      <td>23638</td>\n",
       "      <td>650</td>\n",
       "      <td>Langtang Himalaya</td>\n",
       "      <td>28°22′53″N 85°41′01″E﻿</td>\n",
       "      <td>Shisha Pangma</td>\n",
       "      <td>1981</td>\n",
       "      <td>4</td>\n",
       "      <td>0.0</td>\n",
       "    </tr>\n",
       "    <tr>\n",
       "      <td>115</td>\n",
       "      <td>107</td>\n",
       "      <td>Kangphu Kang</td>\n",
       "      <td>7204</td>\n",
       "      <td>23635</td>\n",
       "      <td>1200</td>\n",
       "      <td>Lunana Himalaya</td>\n",
       "      <td>28°09′20″N 90°03′48″E﻿</td>\n",
       "      <td>Tongshanjiabu</td>\n",
       "      <td>2002</td>\n",
       "      <td>1</td>\n",
       "      <td>0.0</td>\n",
       "    </tr>\n",
       "    <tr>\n",
       "      <td>116</td>\n",
       "      <td>108</td>\n",
       "      <td>Singhi Kangri</td>\n",
       "      <td>7202</td>\n",
       "      <td>23629</td>\n",
       "      <td>790</td>\n",
       "      <td>Siachen Karakoram</td>\n",
       "      <td>35°35′59″N 76°59′01″E﻿</td>\n",
       "      <td>Teram Kangri III</td>\n",
       "      <td>1976</td>\n",
       "      <td>2</td>\n",
       "      <td>0.0</td>\n",
       "    </tr>\n",
       "    <tr>\n",
       "      <td>117</td>\n",
       "      <td>109</td>\n",
       "      <td>Lupghar Sar</td>\n",
       "      <td>7200</td>\n",
       "      <td>23622</td>\n",
       "      <td>730</td>\n",
       "      <td>Hispar Karakoram</td>\n",
       "      <td>36°21′01″N 75°02′13″E﻿</td>\n",
       "      <td>Momhil Sar</td>\n",
       "      <td>1979</td>\n",
       "      <td>1</td>\n",
       "      <td>0.0</td>\n",
       "    </tr>\n",
       "  </tbody>\n",
       "</table>\n",
       "<p>118 rows × 11 columns</p>\n",
       "</div>"
      ],
      "text/plain": [
       "     Rank                                  Mountain  Height (m)  Height (ft)  \\\n",
       "0       1  Mount Everest / Sagarmatha / Chomolungma        8848        29029   \n",
       "1       2                K2 / Qogir / Godwin Austen        8611        28251   \n",
       "2       3                             Kangchenjunga        8586        28169   \n",
       "3       4                                    Lhotse        8516        27940   \n",
       "4       5                                    Makalu        8485        27838   \n",
       "..    ...                                       ...         ...          ...   \n",
       "113   105              Noijin Kangsang / Norin Kang        7206        23642   \n",
       "114   106                               Langtang Ri        7205        23638   \n",
       "115   107                              Kangphu Kang        7204        23635   \n",
       "116   108                             Singhi Kangri        7202        23629   \n",
       "117   109                               Lupghar Sar        7200        23622   \n",
       "\n",
       "     Prominence (m)                   Range              Coordinates  \\\n",
       "0              8848     Mahalangur Himalaya  27°59′17″N 86°55′31″E﻿    \n",
       "1              4017       Baltoro Karakoram  35°52′53″N 76°30′48″E﻿    \n",
       "2              3922  Kangchenjunga Himalaya  27°42′12″N 88°08′51″E﻿    \n",
       "3               610     Mahalangur Himalaya  27°57′42″N 86°55′59″E﻿    \n",
       "4              2386     Mahalangur Himalaya  27°53′23″N 87°05′20″E﻿    \n",
       "..              ...                     ...                      ...   \n",
       "113            2160        Nagarze Himalaya  28°56′48″N 90°10′42″E﻿    \n",
       "114             650       Langtang Himalaya  28°22′53″N 85°41′01″E﻿    \n",
       "115            1200         Lunana Himalaya  28°09′20″N 90°03′48″E﻿    \n",
       "116             790       Siachen Karakoram  35°35′59″N 76°59′01″E﻿    \n",
       "117             730        Hispar Karakoram  36°21′01″N 75°02′13″E﻿    \n",
       "\n",
       "      Parent mountain First ascent Ascents bef. 2004  \\\n",
       "0                 NaN         1953            >>145    \n",
       "1       Mount Everest         1954                45   \n",
       "2       Mount Everest         1955                38   \n",
       "3       Mount Everest         1956                26   \n",
       "4       Mount Everest         1955                45   \n",
       "..                ...          ...               ...   \n",
       "113   Gangkar Puensum         1986                 4   \n",
       "114     Shisha Pangma         1981                 4   \n",
       "115     Tongshanjiabu         2002                 1   \n",
       "116  Teram Kangri III         1976                 2   \n",
       "117        Momhil Sar         1979                 1   \n",
       "\n",
       "     Failed attempts bef. 2004  \n",
       "0                        121.0  \n",
       "1                         44.0  \n",
       "2                         24.0  \n",
       "3                         26.0  \n",
       "4                         52.0  \n",
       "..                         ...  \n",
       "113                        1.0  \n",
       "114                        0.0  \n",
       "115                        0.0  \n",
       "116                        0.0  \n",
       "117                        0.0  \n",
       "\n",
       "[118 rows x 11 columns]"
      ]
     },
     "execution_count": 13,
     "metadata": {},
     "output_type": "execute_result"
    }
   ],
   "source": [
    "mount"
   ]
  },
  {
   "cell_type": "code",
   "execution_count": 39,
   "metadata": {},
   "outputs": [],
   "source": [
    "a = mount['Parent mountain'].value_counts().index"
   ]
  },
  {
   "cell_type": "code",
   "execution_count": 40,
   "metadata": {},
   "outputs": [],
   "source": [
    "b = mount['Parent mountain'].value_counts().values"
   ]
  },
  {
   "cell_type": "code",
   "execution_count": 36,
   "metadata": {},
   "outputs": [
    {
     "data": {
      "text/plain": [
       "pandas.core.indexes.base.Index"
      ]
     },
     "execution_count": 36,
     "metadata": {},
     "output_type": "execute_result"
    }
   ],
   "source": [
    "type(a)"
   ]
  },
  {
   "cell_type": "code",
   "execution_count": 75,
   "metadata": {},
   "outputs": [],
   "source": [
    "def sortFunc(a, b):\n",
    "    c = []\n",
    "    d = []\n",
    "    for i in range(len(a)):\n",
    "        if b[i] >= 3:\n",
    "            c.append(a[i])\n",
    "            d.append(b[i])\n",
    "    return c, d\n",
    "            \n",
    "    \n",
    "    "
   ]
  },
  {
   "cell_type": "code",
   "execution_count": 76,
   "metadata": {},
   "outputs": [
    {
     "data": {
      "text/plain": [
       "'Mount Everest'"
      ]
     },
     "execution_count": 76,
     "metadata": {},
     "output_type": "execute_result"
    }
   ],
   "source": [
    "a[0]"
   ]
  },
  {
   "cell_type": "code",
   "execution_count": 78,
   "metadata": {},
   "outputs": [],
   "source": [
    "a, b = sortFunc(np.array(a), np.array(b))"
   ]
  },
  {
   "cell_type": "code",
   "execution_count": 80,
   "metadata": {},
   "outputs": [
    {
     "name": "stdout",
     "output_type": "stream",
     "text": [
      "<zip object at 0x00000159556BE448>\n"
     ]
    }
   ],
   "source": [
    "print(zip(a, b))"
   ]
  },
  {
   "cell_type": "code",
   "execution_count": 81,
   "metadata": {},
   "outputs": [
    {
     "data": {
      "text/plain": [
       "{'Mount Everest': 9,\n",
       " 'Gasherbrum I': 8,\n",
       " 'Cho Oyu': 7,\n",
       " 'Kangchenjunga': 7,\n",
       " 'K2': 5,\n",
       " 'Distaghil Sar': 5,\n",
       " 'Shisha Pangma': 4,\n",
       " 'Dhaulagiri': 4,\n",
       " 'Khunyang Chhish': 3,\n",
       " 'Dhaulagiri IV': 3,\n",
       " 'Kamet': 3,\n",
       " 'Batura Sar': 3,\n",
       " 'Manaslu': 3,\n",
       " 'Teram Kangri I': 3}"
      ]
     },
     "execution_count": 81,
     "metadata": {},
     "output_type": "execute_result"
    }
   ],
   "source": [
    "dict(zip(a, b))"
   ]
  },
  {
   "cell_type": "code",
   "execution_count": null,
   "metadata": {},
   "outputs": [],
   "source": []
  }
 ],
 "metadata": {
  "kernelspec": {
   "display_name": "Python 3",
   "language": "python",
   "name": "python3"
  },
  "language_info": {
   "codemirror_mode": {
    "name": "ipython",
    "version": 3
   },
   "file_extension": ".py",
   "mimetype": "text/x-python",
   "name": "python",
   "nbconvert_exporter": "python",
   "pygments_lexer": "ipython3",
   "version": "3.7.4"
  }
 },
 "nbformat": 4,
 "nbformat_minor": 2
}
